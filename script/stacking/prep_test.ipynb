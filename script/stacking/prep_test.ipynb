{
 "cells": [
  {
   "cell_type": "code",
   "execution_count": 12,
   "metadata": {},
   "outputs": [],
   "source": [
    "import numpy as np\n",
    "import matplotlib.pyplot as plt\n",
    "import astropy.units as u\n",
    "from linetools.spectra import utils as ltsu\n",
    "from linetools.spectra.xspectrum1d import XSpectrum1D\n",
    "from astropy.io import fits"
   ]
  },
  {
   "cell_type": "code",
   "execution_count": 2,
   "metadata": {},
   "outputs": [],
   "source": [
    "import clamato_read\n",
    "import cuts\n",
    "import milkyway\n",
    "import prep"
   ]
  },
  {
   "cell_type": "code",
   "execution_count": 3,
   "metadata": {},
   "outputs": [
    {
     "name": "stderr",
     "output_type": "stream",
     "text": [
      "/opt/anaconda3/lib/python3.7/site-packages/astropy/units/quantity.py:464: RuntimeWarning: invalid value encountered in greater\n",
      "  result = super().__array_ufunc__(function, method, *arrays, **kwargs)\n"
     ]
    },
    {
     "name": "stdout",
     "output_type": "stream",
     "text": [
      "Number of spectra in the redshift bin: 416\n",
      "Number of spectra provided = 416\n",
      "Number of spectra left after the lyman-limit cut =  367\n",
      "Number of spectra provided = 367\n",
      "Number of spectra left after the S/N cut =  281\n",
      "Loading pixel_info ...\n",
      "Loading samples ...\n",
      "Loading best_fit ...\n",
      "Replacing NaNs in reliable distance estimates ...\n",
      "Sorting pixel_info ...\n",
      "Extracting hp_idx_sorted and data_idx at each nside ...\n",
      "  nside = 64\n",
      "  nside = 128\n",
      "  nside = 256\n",
      "  nside = 512\n",
      "  nside = 1024\n",
      "t = 62.787 s\n",
      "  pix_info:   0.663 s\n",
      "   samples:  40.632 s\n",
      "      best:   8.146 s\n",
      "       nan:   1.666 s\n",
      "      sort:  11.263 s\n",
      "       idx:   0.417 s\n"
     ]
    },
    {
     "name": "stderr",
     "output_type": "stream",
     "text": [
      "/Users/jsmonzon/linetools/linetools/spectra/xspectrum1d.py:253: UserWarning: No unit given to wavelength, assuming Angstroms.\n",
      "  warnings.warn(\"No unit given to wavelength, assuming Angstroms.\")\n"
     ]
    }
   ],
   "source": [
    "#grab the spectra\n",
    "spec, red, coord = clamato_read.xspec([2.25,2.75])\n",
    "\n",
    "#cut the sample\n",
    "spec, red, coord = cuts.lyman_limit(spec, red, coord)\n",
    "spec, red, coord = cuts.s2n(spec, red, coord)\n",
    "\n",
    "#deredden\n",
    "spec = milkyway.extinction(spec, red, coord)"
   ]
  },
  {
   "cell_type": "code",
   "execution_count": 4,
   "metadata": {},
   "outputs": [],
   "source": [
    "#creating the two bins\n",
    "lowz_cut = tuple([red < 2.5])\n",
    "hiz_cut = tuple([red > 2.5])\n",
    "\n",
    "low_spec, low_red = spec[lowz_cut], red[lowz_cut]\n",
    "hi_spec, hi_red = spec[hiz_cut], red[hiz_cut]"
   ]
  },
  {
   "cell_type": "code",
   "execution_count": 5,
   "metadata": {},
   "outputs": [],
   "source": [
    "low_rest = prep.clean(low_spec, low_red)\n",
    "hi_rest = prep.clean(hi_spec, hi_red)"
   ]
  },
  {
   "cell_type": "code",
   "execution_count": 25,
   "metadata": {},
   "outputs": [],
   "source": [
    "def stacks(spec, red, N, zbin, plot=False):\n",
    "    \"\"\"\n",
    "    :param spec: XSpectrum1D collated object :rest_spec from the stacking modules\n",
    "    :red: redshift array\n",
    "    :param N: number of iterations for the bootstrap\n",
    "    :param zbinn: which bin is being used (str) \"lowz\" or \"hiz\"\n",
    "    \"\"\"\n",
    "\n",
    "    import numpy as np\n",
    "    from astropy.io import fits\n",
    "    from numpy import random as ran\n",
    "    from linetools.spectra import utils as ltsu\n",
    "    from linetools.spectra.xspectrum1d import XSpectrum1D\n",
    "\n",
    "    print(\"Number of spectra provided =\", spec.nspec)\n",
    "\n",
    "    # the actual stack\n",
    "    stack = ltsu.smash_spectra(spec)\n",
    "    z_med = np.median(red)\n",
    "\n",
    "    # the bootstrap\n",
    "    R = (spec.nspec)  # restraints on the random variable\n",
    "    N_stack = []\n",
    "    N_z_med = []\n",
    "\n",
    "    for i in np.arange(N):  # this might take a while\n",
    "        \n",
    "        if i%10 == 0:\n",
    "            print(i)\n",
    "        choice = np.asarray(ran.randint(0, R, R))  # the shuffle\n",
    "\n",
    "        rand_spec = np.asarray([spec[index] for index in choice])\n",
    "        rand_red = np.asarray([red[index] for index in choice])\n",
    "\n",
    "        rand_collate = ltsu.collate(rand_spec)  # collate and stack\n",
    "        N_stack.append(ltsu.smash_spectra(rand_collate))\n",
    "        N_z_med.append(np.median(rand_red))\n",
    "        \n",
    "    # matrix math to create the error array\n",
    "    N_flux = np.array([entry.flux for entry in N_stack])\n",
    "    N_matrix = np.array([N_flux[i] - stack.flux for i in range(N)])\n",
    "\n",
    "    tranpose = np.transpose(N_matrix)  # matrix math\n",
    "    covariance = np.dot(tranpose, N_matrix)\n",
    "    sigma = np.sqrt(np.diagonal(covariance) / (N - 1))  # the final error array\n",
    "\n",
    "    composite = XSpectrum1D(stack.wavelength, stack.flux, sig=sigma)\n",
    "    #plot with bootstrap generated error\n",
    "    if plot==True:\n",
    "        composite.plot()\n",
    "    \n",
    "    #writing out the stack\n",
    "    hdr = fits.Header()\n",
    "    hdr[\"REDSHIFT\"] = z_med\n",
    "    hdr[\"NSPEC\"] = spec.nspec\n",
    "    header = fits.PrimaryHDU(header=hdr)\n",
    "\n",
    "    c_wave = fits.Column(name='WAVELENGTH', array=stack.wavelength, unit=\"angstroms\", format=\"E\") \n",
    "    c_flux = fits.Column(name='FLUX', array=stack.flux, unit=\"relative flux\", format=\"E\")\n",
    "    c_noise = fits.Column(name='NOISE', array=sigma, unit=\"relative flux\", format=\"E\")\n",
    "    table = fits.BinTableHDU.from_columns([c_wave, c_flux, c_noise])\n",
    "    \n",
    "    full_hdu = fits.HDUList([header, table])\n",
    "    full_hdu.writeto(\"../../fits/composites/\"+zbin+\"/composite.fits\")\n",
    "    \n",
    "    #writing out the boostrap\n",
    "    hdr = fits.Header()\n",
    "    hdr[\"ZBIN\"] = zbin\n",
    "    hdr[\"NBOOT\"] = N\n",
    "    header = fits.PrimaryHDU(header=hdr)\n",
    "    \n",
    "    c_wave = fits.Column(name='WAVELENGTH', array=stack.wavelength, unit=\"angstroms\", format=\"E\") \n",
    "    c_noise = fits.Column(name='FLUX_ERR', array=sigma, unit=\"relative flux\", format=\"E\")\n",
    "    table = fits.BinTableHDU.from_columns([c_wave, c_noise])\n",
    "    \n",
    "    flux_data = fits.ImageHDU(N_flux, name=\"FLUX_ITERATIONS\")\n",
    "    \n",
    "    full_hdu = fits.HDUList([header, table, flux_data])\n",
    "    full_hdu.writeto(\"../../fits/bootstrap/\"+zbin+\"/stacks.fits\")"
   ]
  },
  {
   "cell_type": "code",
   "execution_count": 26,
   "metadata": {},
   "outputs": [
    {
     "name": "stdout",
     "output_type": "stream",
     "text": [
      "Number of spectra provided = 142\n",
      "0\n",
      "10\n",
      "20\n",
      "30\n",
      "40\n",
      "50\n",
      "60\n",
      "70\n",
      "80\n",
      "90\n"
     ]
    },
    {
     "name": "stderr",
     "output_type": "stream",
     "text": [
      "/Users/jsmonzon/linetools/linetools/spectra/xspectrum1d.py:253: UserWarning: No unit given to wavelength, assuming Angstroms.\n",
      "  warnings.warn(\"No unit given to wavelength, assuming Angstroms.\")\n"
     ]
    }
   ],
   "source": [
    "stacks(hi_rest,hi_red,100,\"hiz\")"
   ]
  },
  {
   "cell_type": "code",
   "execution_count": 35,
   "metadata": {},
   "outputs": [],
   "source": [
    "stack = fits.open(\"../../fits/composites/hiz/composite.fits\")"
   ]
  },
  {
   "cell_type": "code",
   "execution_count": 38,
   "metadata": {},
   "outputs": [
    {
     "data": {
      "text/plain": [
       "XTENSION= 'BINTABLE'           / binary table extension                         \n",
       "BITPIX  =                    8 / array data type                                \n",
       "NAXIS   =                    2 / number of array dimensions                     \n",
       "NAXIS1  =                   12 / length of dimension 1                          \n",
       "NAXIS2  =                  372 / length of dimension 2                          \n",
       "PCOUNT  =                    0 / number of group parameters                     \n",
       "GCOUNT  =                    1 / number of groups                               \n",
       "TFIELDS =                    3 / number of table fields                         \n",
       "TTYPE1  = 'WAVELENGTH'                                                          \n",
       "TFORM1  = 'E       '                                                            \n",
       "TUNIT1  = 'angstroms'                                                           \n",
       "TTYPE2  = 'FLUX    '                                                            \n",
       "TFORM2  = 'E       '                                                            \n",
       "TUNIT2  = 'relative flux'                                                       \n",
       "TTYPE3  = 'NOISE   '                                                            \n",
       "TFORM3  = 'E       '                                                            \n",
       "TUNIT3  = 'relative flux'                                                       "
      ]
     },
     "execution_count": 38,
     "metadata": {},
     "output_type": "execute_result"
    }
   ],
   "source": [
    "stack[1].header"
   ]
  },
  {
   "cell_type": "code",
   "execution_count": null,
   "metadata": {},
   "outputs": [],
   "source": []
  }
 ],
 "metadata": {
  "kernelspec": {
   "display_name": "Python 3",
   "language": "python",
   "name": "python3"
  },
  "language_info": {
   "codemirror_mode": {
    "name": "ipython",
    "version": 3
   },
   "file_extension": ".py",
   "mimetype": "text/x-python",
   "name": "python",
   "nbconvert_exporter": "python",
   "pygments_lexer": "ipython3",
   "version": "3.7.4"
  }
 },
 "nbformat": 4,
 "nbformat_minor": 2
}
