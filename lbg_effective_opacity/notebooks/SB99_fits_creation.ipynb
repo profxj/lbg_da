{
 "cells": [
  {
   "cell_type": "code",
   "execution_count": 1,
   "metadata": {
    "collapsed": true
   },
   "outputs": [],
   "source": [
    "import numpy as np\n",
    "from astropy.io import fits\n",
    "from astropy.table import Table as Table\n",
    "import matplotlib.pyplot as plt\n",
    "from linetools.spectra import utils as ltsu\n",
    "from linetools.spectra.xspectrum1d import XSpectrum1D\n",
    "import astropy.units as u\n",
    "from astropy import constants as const\n",
    "%matplotlib inline"
   ]
  },
  {
   "cell_type": "code",
   "execution_count": 2,
   "metadata": {
    "collapsed": true
   },
   "outputs": [],
   "source": [
    "fits.open(s)"
   ]
  },
  {
   "cell_type": "markdown",
   "metadata": {},
   "source": [
    "# Read in\n"
   ]
  },
  {
   "cell_type": "code",
   "execution_count": 22,
   "metadata": {
    "collapsed": false
   },
   "outputs": [],
   "source": [
    "SB = fits.open(\"/home/jsm/Research/2018-2019/SB99/Fitting/old/sample_spec.fits\") \n",
    "\n",
    "# to make sure I have the same fits format as this example spectrum\n",
    "\n",
    "\n",
    "\n",
    "\n",
    "stack2 = fits.open(\"/home/jsm/my_lbg_da/lbg_da/summer_2018/fits/LBG_2.5.fits\")\n",
    "\n",
    "stack3 = fits.open(\"/home/jsm/my_lbg_da/lbg_da/summer_2018/fits/LBG_3.0.fits\")\n",
    "\n",
    "#wave, flux, noise"
   ]
  },
  {
   "cell_type": "code",
   "execution_count": 21,
   "metadata": {
    "collapsed": false
   },
   "outputs": [],
   "source": [
    "#stack2[2].data[29:840]"
   ]
  },
  {
   "cell_type": "code",
   "execution_count": 8,
   "metadata": {
    "collapsed": false
   },
   "outputs": [
    {
     "data": {
      "text/plain": [
       "811"
      ]
     },
     "execution_count": 8,
     "metadata": {},
     "output_type": "execute_result"
    }
   ],
   "source": [
    "flux_2 = stack2[0].data[29:840] # only the data I want 1000-1500A\n",
    "\n",
    "wavelength_2 = stack2[2].data[29:840]\n",
    "\n",
    "noise_2 = stack2[1].data[29:840]\n",
    "\n",
    "\n",
    "len(flux_2)"
   ]
  },
  {
   "cell_type": "code",
   "execution_count": 9,
   "metadata": {
    "collapsed": false
   },
   "outputs": [
    {
     "data": {
      "text/plain": [
       "804"
      ]
     },
     "execution_count": 9,
     "metadata": {},
     "output_type": "execute_result"
    }
   ],
   "source": [
    "flux_3 = stack3[0].data[94:-1]# only the data I want 1000-1500A\n",
    "\n",
    "wavelength_3 = stack3[2].data[94:-1]\n",
    "\n",
    "noise_3 = stack3[1].data[94:-1]\n",
    "\n",
    "len(flux_3)"
   ]
  },
  {
   "cell_type": "markdown",
   "metadata": {},
   "source": [
    "# Fits creation"
   ]
  },
  {
   "cell_type": "code",
   "execution_count": 10,
   "metadata": {
    "collapsed": false
   },
   "outputs": [],
   "source": [
    "c2_wave = fits.Column(name='WAVELENGTH', array=wavelength_2, unit=\"angstroms\", format=\"E\") #the BEAGLE format\n",
    "\n",
    "c2_flux = fits.Column(name='FLUX', array=flux_2, unit=\"erg s^-1 cm^-1 A^-1\", format=\"E\")\n",
    "\n",
    "c2_noise = fits.Column(name='NOISE', array=noise_2, unit=\"erg s^-1 cm^-1 A^-1\", format=\"E\")"
   ]
  },
  {
   "cell_type": "code",
   "execution_count": 11,
   "metadata": {
    "collapsed": true
   },
   "outputs": [],
   "source": [
    "c3_wave = fits.Column(name='WAVELENGTH', array=wavelength_3, unit=\"angstroms\", format=\"E\") #the BEAGLE format\n",
    "\n",
    "c3_flux = fits.Column(name='FLUX', array=flux_3, unit=\"erg s^-1 cm^-1 A^-1\", format=\"E\")\n",
    "\n",
    "c3_noise = fits.Column(name='NOISE', array=noise_3, unit=\"erg s^-1 cm^-1 A^-1\", format=\"E\")"
   ]
  },
  {
   "cell_type": "code",
   "execution_count": 12,
   "metadata": {
    "collapsed": true
   },
   "outputs": [],
   "source": [
    "t_2 = fits.BinTableHDU.from_columns([c2_wave, c2_flux, c2_noise])\n",
    "\n",
    "t_3 = fits.BinTableHDU.from_columns([c3_wave, c3_flux, c3_noise])"
   ]
  },
  {
   "cell_type": "code",
   "execution_count": 13,
   "metadata": {
    "collapsed": true
   },
   "outputs": [],
   "source": [
    "hdr_2 = t_2.header\n",
    "\n",
    "hdr_2.set(\"REDSHIFT\", 2.418)\n",
    "\n",
    "hdr_3 = t_3.header\n",
    "\n",
    "hdr_3.set(\"REDSHIFT\", 2.657)"
   ]
  },
  {
   "cell_type": "code",
   "execution_count": 14,
   "metadata": {
    "collapsed": false
   },
   "outputs": [],
   "source": [
    "#prim_hdu = fits.PrimaryHDU(np.zeros(10))\n",
    "\n",
    "#prim_hdu_hdr = prim_hdu.header\n",
    "\n",
    "#prim_hdu_hdr.set(\"COMMENT\", \"This Primary HDU describes nothing\")\n",
    "#prim_hdu_hdr.set(\"COMMENT\", \"It was created so that the file would conform to FITS standard\")\n",
    "#prim_hdu_hdr.set(\"COMMENT\", \"There are two composite spectra included in this file\")"
   ]
  },
  {
   "cell_type": "markdown",
   "metadata": {},
   "source": [
    "# Write out"
   ]
  },
  {
   "cell_type": "code",
   "execution_count": 18,
   "metadata": {
    "collapsed": false
   },
   "outputs": [],
   "source": [
    "#hdul = fits.HDUList([prim_hdu,t_2, t_3])\n",
    "\n",
    "t_2.writeto(\"/home/jsm/Research/2018-2019/SB99/Fitting/data/2.5_data.fits\")\n",
    "\n",
    "t_3.writeto(\"/home/jsm/Research/2018-2019/SB99/Fitting/data/3.0_data.fits\")"
   ]
  },
  {
   "cell_type": "code",
   "execution_count": null,
   "metadata": {
    "collapsed": true
   },
   "outputs": [],
   "source": []
  }
 ],
 "metadata": {
  "kernelspec": {
   "display_name": "Python 3",
   "language": "python",
   "name": "python3"
  },
  "language_info": {
   "codemirror_mode": {
    "name": "ipython",
    "version": 3
   },
   "file_extension": ".py",
   "mimetype": "text/x-python",
   "name": "python",
   "nbconvert_exporter": "python",
   "pygments_lexer": "ipython3",
   "version": "3.5.4"
  }
 },
 "nbformat": 4,
 "nbformat_minor": 0
}
