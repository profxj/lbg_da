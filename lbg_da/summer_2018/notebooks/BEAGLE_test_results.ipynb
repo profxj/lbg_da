{
 "cells": [
  {
   "cell_type": "code",
   "execution_count": 39,
   "metadata": {},
   "outputs": [
    {
     "ename": "ModuleNotFoundError",
     "evalue": "No module named 'beagle_multiprocess'",
     "output_type": "error",
     "traceback": [
      "\u001b[0;31m---------------------------------------------------------------------------\u001b[0m",
      "\u001b[0;31mModuleNotFoundError\u001b[0m                       Traceback (most recent call last)",
      "\u001b[0;32m<ipython-input-39-5f1f8703cd9d>\u001b[0m in \u001b[0;36m<module>\u001b[0;34m()\u001b[0m\n\u001b[1;32m     21\u001b[0m \u001b[0;31m#from beagle_utils import BeagleDirectories, get_files_list, find_file\u001b[0m\u001b[0;34m\u001b[0m\u001b[0;34m\u001b[0m\u001b[0m\n\u001b[1;32m     22\u001b[0m \u001b[0;31m#from beagle_parsers import standard_parser\u001b[0m\u001b[0;34m\u001b[0m\u001b[0;34m\u001b[0m\u001b[0m\n\u001b[0;32m---> 23\u001b[0;31m \u001b[0;32mimport\u001b[0m \u001b[0mbeagle_multiprocess\u001b[0m\u001b[0;34m\u001b[0m\u001b[0m\n\u001b[0m",
      "\u001b[0;31mModuleNotFoundError\u001b[0m: No module named 'beagle_multiprocess'"
     ]
    }
   ],
   "source": [
    "import numpy as np\n",
    "from numpy import random as rand\n",
    "import matplotlib.pyplot as plt\n",
    "from linetools.spectra import utils as ltsu\n",
    "from linetools.spectra.xspectrum1d import XSpectrum1D\n",
    "from astropy.io import fits\n",
    "from astropy.table import Table\n",
    "from astropy.time import Time\n",
    "import astropy.units as u\n",
    "from astropy import constants as c\n",
    "from array import array\n",
    "from scipy import stats as stat\n",
    "from scipy.optimize import curve_fit\n",
    "from scipy import optimize\n",
    "import scipy.ndimage as snd\n",
    "import glob\n",
    "\n",
    "\n",
    "#from beagle_spectra import Spectrum\n",
    "#from beagle_pdf import PDF\n",
    "#from beagle_utils import BeagleDirectories, get_files_list, find_file\n",
    "#from beagle_parsers import standard_parser\n",
    "import beagle_multiprocess"
   ]
  },
  {
   "cell_type": "code",
   "execution_count": 29,
   "metadata": {},
   "outputs": [],
   "source": [
    "docker_test = fits.open(\"/home/jsm/PycharmProjects/Summer_Research_2018/BEAGLE-general/results/BEAGLE_Docker_test_1/my_first_test.fits\")\n",
    "\n",
    "mock_test = fits.open(\"/home/jsm/PycharmProjects/Summer_Research_2018/BEAGLE-general/results/BEAGLE_mock_catalogue_from_file/catalogue.fits\")"
   ]
  },
  {
   "cell_type": "code",
   "execution_count": 37,
   "metadata": {},
   "outputs": [
    {
     "data": {
      "text/plain": [
       "XTENSION= 'BINTABLE'           / binary table extension                         \n",
       "BITPIX  =                    8 / 8-bit bytes                                    \n",
       "NAXIS   =                    2 / 2-dimensional binary table                     \n",
       "NAXIS1  =                   32 / width of table in bytes                        \n",
       "NAXIS2  =                    3 / number of rows in table                        \n",
       "PCOUNT  =                    0 / size of special data area                      \n",
       "GCOUNT  =                    1 / one data group (required keyword)              \n",
       "TFIELDS =                    8 / number of fields in each row                   \n",
       "TTYPE1  = 'redshift'           / label for field   1                            \n",
       "TFORM1  = '1E      '           / data format of field: 4-byte REAL              \n",
       "TTYPE2  = 'formation_redshift' / label for field   2                            \n",
       "TFORM2  = '1E      '           / data format of field: 4-byte REAL              \n",
       "TTYPE3  = 'SFR     '           / label for field   3                            \n",
       "TFORM3  = '1E      '           / data format of field: 4-byte REAL              \n",
       "TUNIT3  = 'M_sun yr^-1'        / physical unit of field                         \n",
       "TTYPE4  = 'sSFR    '           / label for field   4                            \n",
       "TFORM4  = '1E      '           / data format of field: 4-byte REAL              \n",
       "TUNIT4  = 'log10(yr^-1)'       / physical unit of field                         \n",
       "TTYPE5  = 'SFR_10  '           / label for field   5                            \n",
       "TFORM5  = '1E      '           / data format of field: 4-byte REAL              \n",
       "TUNIT5  = 'M_sun yr^-1'        / physical unit of field                         \n",
       "TTYPE6  = 'SFR_100 '           / label for field   6                            \n",
       "TFORM6  = '1E      '           / data format of field: 4-byte REAL              \n",
       "TUNIT6  = 'M_sun yr^-1'        / physical unit of field                         \n",
       "TTYPE7  = 'max_stellar_age'    / label for field   7                            \n",
       "TFORM7  = '1E      '           / data format of field: 4-byte REAL              \n",
       "TUNIT7  = 'yr      '           / physical unit of field                         \n",
       "TTYPE8  = 'current_sfr_timescale' / label for field   8                         \n",
       "TFORM8  = '1E      '           / data format of field: 4-byte REAL              \n",
       "TUNIT8  = 'yr      '           / physical unit of field                         \n",
       "EXTNAME = 'STAR FORMATION'     / name of this binary table extension            "
      ]
     },
     "execution_count": 37,
     "metadata": {},
     "output_type": "execute_result"
    }
   ],
   "source": [
    "#docker_test[2].head\n"
   ]
  },
  {
   "cell_type": "code",
   "execution_count": null,
   "metadata": {
    "collapsed": true
   },
   "outputs": [],
   "source": []
  }
 ],
 "metadata": {
  "kernelspec": {
   "display_name": "Python 3",
   "language": "python",
   "name": "python3"
  },
  "language_info": {
   "codemirror_mode": {
    "name": "ipython",
    "version": 3
   },
   "file_extension": ".py",
   "mimetype": "text/x-python",
   "name": "python",
   "nbconvert_exporter": "python",
   "pygments_lexer": "ipython3",
   "version": "3.6.3"
  }
 },
 "nbformat": 4,
 "nbformat_minor": 2
}
