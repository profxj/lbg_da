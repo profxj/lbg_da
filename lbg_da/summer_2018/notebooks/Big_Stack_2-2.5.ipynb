{
 "cells": [
  {
   "cell_type": "code",
   "execution_count": 1,
   "metadata": {
    "collapsed": true
   },
   "outputs": [],
   "source": [
    "import numpy as np\n",
    "from astropy.io import fits\n",
    "from astropy.table import Table as Table\n",
    "import matplotlib.pyplot as plt\n",
    "from linetools.spectra import utils as ltsu\n",
    "from linetools.spectra.xspectrum1d import XSpectrum1D\n",
    "import astropy.units as u\n",
    "from astropy import constants as const"
   ]
  },
  {
   "cell_type": "code",
   "execution_count": 2,
   "metadata": {},
   "outputs": [
    {
     "data": {
      "image/png": "[encoded data removed]",
      "text/plain": [
       "<matplotlib.figure.Figure at 0x7ff9cfa58550>"
      ]
     },
     "metadata": {},
     "output_type": "display_data"
    },
    {
     "data": {
      "image/png": "[encoded data removed]",
      "text/plain": [
       "<matplotlib.figure.Figure at 0x7ff993b1bdd8>"
      ]
     },
     "metadata": {},
     "output_type": "display_data"
    }
   ],
   "source": [
    "spec_atr_16 = Table.read('/home/jsm/PycharmProjects/Summer_Research_2018/old_spec/spec_atr.txt', format = 'ascii') \n",
    "\n",
    "spec_atr_17 = Table.read('/home/jsm/PycharmProjects/Summer_Research_2018/new_spec/cl2017_redux/cl2017_valueadded_release_20171009.txt', format = 'ascii') \n",
    "\n",
    "z_16 = [entry[\"zspec\"] for entry in spec_atr_16]\n",
    "\n",
    "z_17 = [entry[\"col5\"] for entry in spec_atr_17]\n",
    "\n",
    "plt.hist(z_16)\n",
    "plt.show()\n",
    "\n",
    "plt.hist(z_17)\n",
    "plt.show()"
   ]
  },
  {
   "cell_type": "code",
   "execution_count": 3,
   "metadata": {
    "collapsed": true
   },
   "outputs": [],
   "source": [
    "#to order and match the spec with their z values\n",
    "spec_atr_16 = Table.read('/home/jsm/PycharmProjects/Summer_Research_2018/old_spec/spec_atr.txt', format = 'ascii') \n",
    "\n",
    "#an initial filter to ensure the spec included cover lya\n",
    "basestring_16 = '/home/jsm/PycharmProjects/Summer_Research_2018/old_spec/'\n",
    "\n",
    "init_spec_16 = []\n",
    "\n",
    "init_z_16 = []\n",
    "    \n",
    "for entry in spec_atr_16:\n",
    "    \n",
    "    if 2.00 < entry[\"zspec\"] < 2.5: \n",
    "        \n",
    "        temp = XSpectrum1D.from_file(basestring_16 + entry[\"Filename\"])\n",
    "        \n",
    "        if temp.wvmin < (1216*u.AA)*(1+entry[\"zspec\"]) < temp.wvmax:\n",
    "                \n",
    "            init_z_16.append(entry[\"zspec\"])\n",
    "                \n",
    "            init_spec_16.append(XSpectrum1D.from_file(basestring_16 + entry[\"Filename\"]))"
   ]
  },
  {
   "cell_type": "code",
   "execution_count": 4,
   "metadata": {},
   "outputs": [
    {
     "data": {
      "text/plain": [
       "111"
      ]
     },
     "execution_count": 4,
     "metadata": {},
     "output_type": "execute_result"
    }
   ],
   "source": [
    "len(init_spec_16)"
   ]
  },
  {
   "cell_type": "code",
   "execution_count": 5,
   "metadata": {},
   "outputs": [
    {
     "name": "stderr",
     "output_type": "stream",
     "text": [
      "/home/jsm/anaconda3/lib/python3.6/site-packages/astropy/units/quantity.py:641: RuntimeWarning: invalid value encountered in greater\n",
      "  *arrays, **kwargs)\n"
     ]
    }
   ],
   "source": [
    "#to order and match the spec with their z values\n",
    "spec_atr_17 = Table.read('/home/jsm/PycharmProjects/Summer_Research_2018/new_spec/cl2017_redux/cl2017_valueadded_release_20171009.txt', format = 'ascii') \n",
    "\n",
    "#an initial filter to ensure the spec included cover lya\n",
    "basestring_17 = '/home/jsm/PycharmProjects/Summer_Research_2018/new_spec/cl2017_redux/spec_v0/'\n",
    "\n",
    "init_spec_17 = []\n",
    "\n",
    "init_z_17 = []\n",
    "    \n",
    "for entry in spec_atr_17:\n",
    "    \n",
    "    if 2.00 < entry[\"col5\"] < 2.5: \n",
    "        \n",
    "        temp = XSpectrum1D.from_file(basestring_17 + entry[\"col1\"])\n",
    "        \n",
    "        if temp.wvmin < (1216*u.AA)*(1+entry[\"col5\"]) < temp.wvmax:\n",
    "                \n",
    "            init_z_17.append(entry[\"col5\"])\n",
    "                \n",
    "            init_spec_17.append(XSpectrum1D.from_file(basestring_17 + entry[\"col1\"]))"
   ]
  },
  {
   "cell_type": "code",
   "execution_count": 6,
   "metadata": {},
   "outputs": [
    {
     "data": {
      "text/plain": [
       "174"
      ]
     },
     "execution_count": 6,
     "metadata": {},
     "output_type": "execute_result"
    }
   ],
   "source": [
    "len(init_z_17)"
   ]
  },
  {
   "cell_type": "code",
   "execution_count": 7,
   "metadata": {},
   "outputs": [
    {
     "name": "stdout",
     "output_type": "stream",
     "text": [
      "Number of spectra (Nspec) after filter = 285\n"
     ]
    }
   ],
   "source": [
    "init_spec = np.asarray(init_spec_16 + init_spec_17)\n",
    "\n",
    "print(\"Number of spectra (Nspec) after filter =\", len(init_spec))\n",
    "\n",
    "init_z = np.asarray(init_z_16 + init_z_17)"
   ]
  },
  {
   "cell_type": "code",
   "execution_count": 8,
   "metadata": {},
   "outputs": [
    {
     "data": {
      "text/plain": [
       "1600.9148084619783"
      ]
     },
     "execution_count": 8,
     "metadata": {},
     "output_type": "execute_result"
    }
   ],
   "source": [
    "max_z = max(init_z)\n",
    "\n",
    "5600/(1+max_z)\n",
    "\n",
    "#< 3150*u.AA\n",
    "#< 5300*u.AA"
   ]
  },
  {
   "cell_type": "code",
   "execution_count": 9,
   "metadata": {},
   "outputs": [
    {
     "data": {
      "text/plain": [
       "104"
      ]
     },
     "execution_count": 9,
     "metadata": {},
     "output_type": "execute_result"
    }
   ],
   "source": [
    "wave_range_mask = [(3190*u.AA > spec.wvmin) and (5250*u.AA < spec.wvmax) for spec in init_spec]\n",
    "\n",
    "speclist = init_spec[wave_range_mask]\n",
    "\n",
    "z_val = init_z[wave_range_mask]\n",
    "\n",
    "len(speclist)"
   ]
  },
  {
   "cell_type": "code",
   "execution_count": 10,
   "metadata": {},
   "outputs": [
    {
     "name": "stderr",
     "output_type": "stream",
     "text": [
      "/home/jsm/PycharmProjects/Summer_Research_2018/linetools/linetools/spectra/xspectrum1d.py:254: UserWarning: No unit given to wavelength, assuming Angstroms.\n",
      "  warnings.warn(\"No unit given to wavelength, assuming Angstroms.\")\n"
     ]
    }
   ],
   "source": [
    "temp = [np.asarray(speclist[i].wavelength/(1+z_val[i])) for i in range(len(speclist))]\n",
    "\n",
    "good_wave = [ (1400 < entry) & (entry < 1500) for entry in temp ]\n",
    "\n",
    "raw_med = np.asarray([np.median(speclist[i].flux[good_wave[i]]) for i in range(len(speclist))])\n",
    "\n",
    "good_med = [median > 0.0 for median in raw_med]\n",
    "\n",
    "medians = raw_med[good_med]\n",
    "\n",
    "short = speclist[good_med]\n",
    "\n",
    "z_short = z_val[good_med]\n",
    "\n",
    "scaled_flux = np.asarray([(short[i].flux/medians[i]) for i in range(len(short))])\n",
    "\n",
    "scaled_spec = []\n",
    "\n",
    "#the new scaled Xspec objects\n",
    "for i in range(len(short)):       \n",
    "    \n",
    "    scaled_spec.append(XSpectrum1D(short[i].wavelength,scaled_flux[i],sig=short[i].sig))"
   ]
  },
  {
   "cell_type": "code",
   "execution_count": 15,
   "metadata": {},
   "outputs": [
    {
     "name": "stderr",
     "output_type": "stream",
     "text": [
      "/home/jsm/PycharmProjects/Summer_Research_2018/linetools/linetools/spectra/xspectrum1d.py:254: UserWarning: No unit given to wavelength, assuming Angstroms.\n",
      "  warnings.warn(\"No unit given to wavelength, assuming Angstroms.\")\n"
     ]
    },
    {
     "data": {
      "text/plain": [
       "104"
      ]
     },
     "execution_count": 15,
     "metadata": {},
     "output_type": "execute_result"
    }
   ],
   "source": [
    "#the final trim on the wavelegth array to ensure a solid stack\n",
    "new_spec = []\n",
    "\n",
    "for i in range(len(scaled_spec)):       \n",
    "    \n",
    "    new_spec.append(XSpectrum1D(scaled_spec[i].data[\"wave\"][0][240:1460],\n",
    "                                scaled_spec[i].data[\"flux\"][0][240:1460],\n",
    "                                scaled_spec[i].data[\"sig\"][0][240:1460]))\n",
    "\n",
    "collate = ltsu.collate(new_spec)\n",
    "\n",
    "collate.nspec"
   ]
  },
  {
   "cell_type": "code",
   "execution_count": 12,
   "metadata": {
    "collapsed": true
   },
   "outputs": [],
   "source": [
    "#rest frame wave values\n",
    "rest_spec = ltsu.rebin_to_rest(collate,z_val, 200*u.km/u.s,grow_bad_sig = True)\n",
    "\n",
    "stack = ltsu.smash_spectra(rest_spec)"
   ]
  },
  {
   "cell_type": "code",
   "execution_count": 16,
   "metadata": {},
   "outputs": [
    {
     "data": {
      "image/png": "[encoded data removed]",
      "text/plain": [
       "<matplotlib.figure.Figure at 0x7ff98d1f6ac8>"
      ]
     },
     "metadata": {},
     "output_type": "display_data"
    }
   ],
   "source": [
    "stack.plot(xlim=(1000,1400))\n",
    "plt.show()"
   ]
  },
  {
   "cell_type": "code",
   "execution_count": null,
   "metadata": {
    "collapsed": true
   },
   "outputs": [],
   "source": []
  }
 ],
 "metadata": {
  "kernelspec": {
   "display_name": "Python 3",
   "language": "python",
   "name": "python3"
  },
  "language_info": {
   "codemirror_mode": {
    "name": "ipython",
    "version": 3
   },
   "file_extension": ".py",
   "mimetype": "text/x-python",
   "name": "python",
   "nbconvert_exporter": "python",
   "pygments_lexer": "ipython3",
   "version": "3.6.3"
  }
 },
 "nbformat": 4,
 "nbformat_minor": 2
}
