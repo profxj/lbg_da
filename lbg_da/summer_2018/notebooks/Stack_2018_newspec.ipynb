{
 "cells": [
  {
   "cell_type": "code",
   "execution_count": 2,
   "metadata": {
    "collapsed": true
   },
   "outputs": [],
   "source": [
    "import numpy as np\n",
    "from astropy.io import fits\n",
    "from astropy.table import Table as Table\n",
    "import matplotlib.pyplot as plt\n",
    "from linetools.spectra import utils as ltsu\n",
    "from linetools.spectra.xspectrum1d import XSpectrum1D\n",
    "import astropy.units as u\n",
    "from astropy import constants as const"
   ]
  },
  {
   "cell_type": "code",
   "execution_count": 3,
   "metadata": {},
   "outputs": [
    {
     "name": "stderr",
     "output_type": "stream",
     "text": [
      "/home/jsm/anaconda3/lib/python3.6/site-packages/astropy/units/quantity.py:641: RuntimeWarning: invalid value encountered in greater\n",
      "  *arrays, **kwargs)\n"
     ]
    }
   ],
   "source": [
    "#to order and match the spec with their z values\n",
    "spec_atr = Table.read('/home/jsm/PycharmProjects/Summer_Research_2018/new_spec/cl2017_redux/cl2017_valueadded_release_20171009.txt', format = 'ascii') \n",
    "\n",
    "#an initial filter to ensure the spec included cover lya\n",
    "basestring = '/home/jsm/PycharmProjects/Summer_Research_2018/new_spec/cl2017_redux/spec_v0/'\n",
    "\n",
    "init_spec = []\n",
    "\n",
    "init_z = []\n",
    "    \n",
    "for entry in spec_atr:\n",
    "    \n",
    "    if 2.00 < entry[\"col5\"] < 2.9: \n",
    "        \n",
    "        temp = XSpectrum1D.from_file(basestring + entry[\"col1\"])\n",
    "        \n",
    "        if temp.wvmin < (1216*u.AA)*(1+entry[\"col5\"]) < temp.wvmax:\n",
    "                \n",
    "            init_z.append(entry[\"col5\"])\n",
    "                \n",
    "            init_spec.append(XSpectrum1D.from_file(basestring + entry[\"col1\"]))"
   ]
  },
  {
   "cell_type": "code",
   "execution_count": 4,
   "metadata": {
    "collapsed": true
   },
   "outputs": [],
   "source": [
    "#spec_atr"
   ]
  },
  {
   "cell_type": "code",
   "execution_count": 5,
   "metadata": {},
   "outputs": [
    {
     "name": "stdout",
     "output_type": "stream",
     "text": [
      "Number of spectra (Nspec) after filter = 352\n"
     ]
    },
    {
     "data": {
      "text/plain": [
       "1214.796488214694"
      ]
     },
     "execution_count": 5,
     "metadata": {},
     "output_type": "execute_result"
    }
   ],
   "source": [
    "init_spec = np.asarray(init_spec)\n",
    "\n",
    "print(\"Number of spectra (Nspec) after filter =\", len(init_spec))\n",
    "\n",
    "init_z = np.asarray(init_z)\n",
    "\n",
    "yeet = 2.4573692307692312\n",
    "\n",
    "4200/(1+yeet)"
   ]
  },
  {
   "cell_type": "code",
   "execution_count": 6,
   "metadata": {},
   "outputs": [
    {
     "name": "stdout",
     "output_type": "stream",
     "text": [
      "128\n"
     ]
    }
   ],
   "source": [
    "wave_range_mask = [(3600*u.AA > spec.wvmin) and (4600*u.AA < spec.wvmax) for spec in init_spec]\n",
    "\n",
    "speclist = init_spec[wave_range_mask]\n",
    "\n",
    "print(len(speclist))\n",
    "\n",
    "z_val = init_z[wave_range_mask]"
   ]
  },
  {
   "cell_type": "code",
   "execution_count": 7,
   "metadata": {
    "collapsed": true
   },
   "outputs": [],
   "source": [
    "wave = np.linspace(3140,4200)\n",
    "\n",
    "s2n = []\n",
    "\n",
    "for i in range(len(speclist)):\n",
    "    \n",
    "    s2n.append ( [XSpectrum1D.get_local_s2n(speclist[i],wavelength*u.AA)[0] for wavelength in wave] )"
   ]
  },
  {
   "cell_type": "code",
   "execution_count": 8,
   "metadata": {
    "collapsed": true
   },
   "outputs": [],
   "source": [
    "s2n_mean = []\n",
    "\n",
    "s2n_med = []\n",
    "\n",
    "for i in s2n:\n",
    "    \n",
    "    s2n_mean.append(np.mean(i))\n",
    "    \n",
    "    s2n_med.append(np.median(i))\n",
    "    \n",
    "s2n_min = 2.5"
   ]
  },
  {
   "cell_type": "code",
   "execution_count": 9,
   "metadata": {
    "collapsed": true
   },
   "outputs": [],
   "source": [
    "#an array to match the spectra with their s2n values\n",
    "trim = np.asarray([speclist, s2n_mean]).T  \n",
    "\n",
    "np.shape(trim)\n",
    "    \n",
    "#grabbing only those above the min value\n",
    "trimmed_spec = trim[trim[:, 1] > s2n_min][:, 0]  \n",
    "\n",
    "\n",
    "#to match the new list with z values\n",
    "trimmed_z = z_val[trim[:, 1] > s2n_min]"
   ]
  },
  {
   "cell_type": "code",
   "execution_count": 10,
   "metadata": {},
   "outputs": [
    {
     "name": "stderr",
     "output_type": "stream",
     "text": [
      "/home/jsm/PycharmProjects/Summer_Research_2018/linetools/linetools/spectra/xspectrum1d.py:254: UserWarning: No unit given to wavelength, assuming Angstroms.\n",
      "  warnings.warn(\"No unit given to wavelength, assuming Angstroms.\")\n"
     ]
    }
   ],
   "source": [
    "#normalizing the flux\n",
    "flux_med = [np.median(trimmed_spec[i].flux) for i in range(len(trimmed_spec))]\n",
    "\n",
    "scaled_flux = np.asarray([(trimmed_spec[i].flux/flux_med[i]) for i in range(len(trimmed_spec))])\n",
    "\n",
    "#print(len(scaled_flux[0]))\n",
    "\n",
    "scaled_spec = []\n",
    "\n",
    "#the new scaled Xspec objects\n",
    "for i in range(len(trimmed_spec)):       \n",
    "    \n",
    "    scaled_spec.append(XSpectrum1D(trimmed_spec[i].wavelength,scaled_flux[i],sig=trimmed_spec[i].sig))"
   ]
  },
  {
   "cell_type": "code",
   "execution_count": 11,
   "metadata": {
    "collapsed": true
   },
   "outputs": [],
   "source": [
    "#waverange=(3500,4500)\n",
    "#for j in scaled_spec:\n",
    "    \n",
    "#    j.plot(xlim=waverange)\n",
    "#    plt.show()"
   ]
  },
  {
   "cell_type": "code",
   "execution_count": 12,
   "metadata": {},
   "outputs": [
    {
     "name": "stdout",
     "output_type": "stream",
     "text": [
      "14 14\n"
     ]
    },
    {
     "name": "stderr",
     "output_type": "stream",
     "text": [
      "/home/jsm/PycharmProjects/Summer_Research_2018/linetools/linetools/spectra/xspectrum1d.py:254: UserWarning: No unit given to wavelength, assuming Angstroms.\n",
      "  warnings.warn(\"No unit given to wavelength, assuming Angstroms.\")\n"
     ]
    },
    {
     "data": {
      "text/plain": [
       "2.5290714285714286"
      ]
     },
     "execution_count": 12,
     "metadata": {},
     "output_type": "execute_result"
    }
   ],
   "source": [
    "#the final trim on the wavelegth array to ensure a solid stack\n",
    "new_spec = []\n",
    "\n",
    "for i in range(len(scaled_spec)):       \n",
    "    \n",
    "    new_spec.append(XSpectrum1D(scaled_spec[i].data[\"wave\"][0][640:1460],\n",
    "                                scaled_spec[i].data[\"flux\"][0][640:1460],\n",
    "                                scaled_spec[i].data[\"sig\"][0][640:1460]))\n",
    "\n",
    "collate = ltsu.collate(new_spec)\n",
    "\n",
    "print(collate.nspec,len(trimmed_z))\n",
    "\n",
    "np.average(trimmed_z)"
   ]
  },
  {
   "cell_type": "code",
   "execution_count": 19,
   "metadata": {},
   "outputs": [
    {
     "data": {
      "text/latex": [
       "$941.06265 \\; \\mathrm{\\mathring{A}}$"
      ],
      "text/plain": [
       "<Quantity 941.0626469078996 Angstrom>"
      ]
     },
     "execution_count": 19,
     "metadata": {},
     "output_type": "execute_result"
    }
   ],
   "source": [
    "#rest frame wave values\n",
    "#rest_spec = ltsu.rebin_to_rest(collate, trimmed_z, 200*u.km/u.s ,grow_bad_sig=True)\n",
    "\n",
    "spec = collate\n",
    "zarr = trimmed_z\n",
    "dv = 200*u.km/u.s\n",
    "\n",
    "dlnlamb = np.log(1+dv/const.c)\n",
    "z2d = np.outer(zarr, np.ones(spec.totpix))\n",
    "wvmin, wvmax = (np.min(spec.data['wave']/(1+z2d))*spec.units['wave'],\n",
    "                np.max(spec.data['wave']/(1+z2d))*spec.units['wave'])\n",
    "\n",
    "wvmin"
   ]
  },
  {
   "cell_type": "code",
   "execution_count": 16,
   "metadata": {},
   "outputs": [
    {
     "name": "stdout",
     "output_type": "stream",
     "text": [
      "Using matplotlib backend: Qt5Agg\n"
     ]
    }
   ],
   "source": [
    "#the stack!\n",
    "stack = ltsu.smash_spectra(rest_spec)\n",
    "\n",
    "stack.plot()#(xlim=(1000,1200))\n",
    "plt.show()"
   ]
  },
  {
   "cell_type": "code",
   "execution_count": 30,
   "metadata": {},
   "outputs": [
    {
     "data": {
      "image/png": "[encoded data removed]",
      "text/plain": [
       "<matplotlib.figure.Figure at 0x7fd1553c8908>"
      ]
     },
     "metadata": {},
     "output_type": "display_data"
    }
   ],
   "source": [
    "yeet = XSpectrum1D.from_file(\"/home/jsm/Downloads/fullstack.fits\")\n",
    "\n",
    "yeet.plot(xlim=(1000,1700))"
   ]
  },
  {
   "cell_type": "code",
   "execution_count": null,
   "metadata": {
    "collapsed": true
   },
   "outputs": [],
   "source": [
    "#stack.write_to_fits(\"fullstack36.fits\")"
   ]
  },
  {
   "cell_type": "code",
   "execution_count": null,
   "metadata": {
    "collapsed": true
   },
   "outputs": [],
   "source": []
  }
 ],
 "metadata": {
  "kernelspec": {
   "display_name": "Python 3",
   "language": "python",
   "name": "python3"
  },
  "language_info": {
   "codemirror_mode": {
    "name": "ipython",
    "version": 3
   },
   "file_extension": ".py",
   "mimetype": "text/x-python",
   "name": "python",
   "nbconvert_exporter": "python",
   "pygments_lexer": "ipython3",
   "version": "3.6.3"
  }
 },
 "nbformat": 4,
 "nbformat_minor": 2
}
