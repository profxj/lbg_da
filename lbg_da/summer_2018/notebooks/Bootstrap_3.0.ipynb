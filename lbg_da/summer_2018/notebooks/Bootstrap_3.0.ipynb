{
 "cells": [
  {
   "cell_type": "code",
   "execution_count": 1,
   "metadata": {
    "collapsed": false
   },
   "outputs": [],
   "source": [
    "import numpy as np\n",
    "from astropy.io import fits\n",
    "from astropy.table import Table as Table\n",
    "import matplotlib.pyplot as plt\n",
    "from linetools.spectra import utils as ltsu\n",
    "from linetools.spectra.xspectrum1d import XSpectrum1D\n",
    "import astropy.units as u\n",
    "from astropy import constants as const\n",
    "from numpy import random as ran\n",
    "%matplotlib inline"
   ]
  },
  {
   "cell_type": "markdown",
   "metadata": {},
   "source": [
    "# The stack. It is the exact same procedure as in the \"stack_3.0\" notebook"
   ]
  },
  {
   "cell_type": "code",
   "execution_count": 2,
   "metadata": {
    "collapsed": false
   },
   "outputs": [],
   "source": [
    "#the 2016 survey\n",
    "\n",
    "#to order and match the spec with their z values\n",
    "spec_atr_16 = Table.read('/home/jsm/PycharmProjects/Summer_Research_2018/old_spec/spec_atr.txt', format = 'ascii') \n",
    "\n",
    "#an initial filter to ensure the spec included cover lya\n",
    "basestring_16 = '/home/jsm/PycharmProjects/Summer_Research_2018/old_spec/'\n",
    "\n",
    "init_spec_16 = []\n",
    "\n",
    "init_z_16 = []\n",
    "    \n",
    "for entry in spec_atr_16:\n",
    "    \n",
    "    if 2.5 < entry[\"zspec\"] < 3.00: #the redshift bin\n",
    "        \n",
    "        temp = XSpectrum1D.from_file(basestring_16 + entry[\"Filename\"])\n",
    "        \n",
    "        if temp.wvmin < (1216*u.AA)*(1+entry[\"zspec\"]) < temp.wvmax:\n",
    "                \n",
    "            init_z_16.append(entry[\"zspec\"])\n",
    "                \n",
    "            init_spec_16.append(XSpectrum1D.from_file(basestring_16 + entry[\"Filename\"]))"
   ]
  },
  {
   "cell_type": "code",
   "execution_count": 3,
   "metadata": {
    "collapsed": false
   },
   "outputs": [],
   "source": [
    "#the 2017 survey\n",
    "\n",
    "#to order and match the spec with their z values\n",
    "spec_atr_17 = Table.read('/home/jsm/PycharmProjects/Summer_Research_2018/new_spec/cl2017_redux/cl2017_valueadded_release_20171009.txt',\n",
    "                         format = 'ascii') \n",
    "\n",
    "#an initial filter to ensure the spec included cover lya\n",
    "basestring_17 = '/home/jsm/PycharmProjects/Summer_Research_2018/new_spec/cl2017_redux/spec_v0/'\n",
    "\n",
    "init_spec_17 = []\n",
    "\n",
    "init_z_17 = []\n",
    "    \n",
    "for entry in spec_atr_17:\n",
    "    \n",
    "    if 2.5 < entry[\"col5\"] < 3.00: #the redshift bin\n",
    "        \n",
    "        temp = XSpectrum1D.from_file(basestring_17 + entry[\"col1\"])\n",
    "        \n",
    "        if temp.wvmin < (1216*u.AA)*(1+entry[\"col5\"]) < temp.wvmax:\n",
    "                \n",
    "            init_z_17.append(entry[\"col5\"])\n",
    "                \n",
    "            init_spec_17.append(XSpectrum1D.from_file(basestring_17 + entry[\"col1\"]))"
   ]
  },
  {
   "cell_type": "code",
   "execution_count": 4,
   "metadata": {
    "collapsed": false
   },
   "outputs": [
    {
     "name": "stdout",
     "output_type": "stream",
     "text": [
      "Number of spectra (Nspec) after filter = 307\n"
     ]
    }
   ],
   "source": [
    "spec = np.asarray(init_spec_16 + init_spec_17)\n",
    "\n",
    "print(\"Number of spectra (Nspec) after filter =\", len(spec))\n",
    "\n",
    "red = np.asarray(init_z_16 + init_z_17)"
   ]
  },
  {
   "cell_type": "code",
   "execution_count": 5,
   "metadata": {
    "collapsed": false
   },
   "outputs": [
    {
     "name": "stderr",
     "output_type": "stream",
     "text": [
      "/home/jsm/.pyenv/versions/anaconda3-2.4.1/lib/python3.5/site-packages/numpy/core/fromnumeric.py:2909: RuntimeWarning: Mean of empty slice.\n",
      "  out=out, **kwargs)\n",
      "/home/jsm/.pyenv/versions/anaconda3-2.4.1/lib/python3.5/site-packages/numpy/core/_methods.py:80: RuntimeWarning: invalid value encountered in true_divide\n",
      "  ret = ret.dtype.type(ret / rcount)\n"
     ]
    }
   ],
   "source": [
    "# the normalization\n",
    "r_2  = range(len(spec))\n",
    "\n",
    "temp_2 = [np.asarray(spec[i].wavelength/(1+red[i])) for i in r_2]\n",
    "\n",
    "wv_norm = [ (1410 < entry) & (entry < 1470) for entry in temp_2 ]\n",
    "\n",
    "rough_med = np.asarray([np.median(spec[i].flux[wv_norm[i]]) for i in r_2])\n",
    "\n",
    "g_med = [median > 0.0 for median in rough_med]\n",
    "\n",
    "medians = rough_med[g_med]\n",
    "\n",
    "g_spec = spec[g_med]\n",
    "\n",
    "g_red = red[g_med]\n",
    "\n",
    "r_3 = range(len(g_spec))\n",
    "\n",
    "norm_flux = np.asarray([(g_spec[i].flux/medians[i]) for i in r_3])"
   ]
  },
  {
   "cell_type": "code",
   "execution_count": 6,
   "metadata": {
    "collapsed": false
   },
   "outputs": [
    {
     "name": "stderr",
     "output_type": "stream",
     "text": [
      "/home/jsm/.pyenv/versions/anaconda3-2.4.1/lib/python3.5/site-packages/linetools-0.3.dev2065-py3.5.egg/linetools/spectra/xspectrum1d.py:254: UserWarning: No unit given to wavelength, assuming Angstroms.\n",
      "  warnings.warn(\"No unit given to wavelength, assuming Angstroms.\")\n"
     ]
    }
   ],
   "source": [
    "#the new scaled Xspec objects\n",
    "\n",
    "scaled_spec = []\n",
    "\n",
    "for i in r_3:       \n",
    "    \n",
    "    scaled_spec.append(XSpectrum1D(g_spec[i].wavelength,norm_flux[i],sig=g_spec[i].sig))"
   ]
  },
  {
   "cell_type": "code",
   "execution_count": 7,
   "metadata": {
    "collapsed": false
   },
   "outputs": [
    {
     "name": "stdout",
     "output_type": "stream",
     "text": [
      "Number of spectra to be stacked = 243\n"
     ]
    },
    {
     "name": "stderr",
     "output_type": "stream",
     "text": [
      "/home/jsm/.pyenv/versions/anaconda3-2.4.1/lib/python3.5/site-packages/linetools-0.3.dev2065-py3.5.egg/linetools/spectra/xspectrum1d.py:254: UserWarning: No unit given to wavelength, assuming Angstroms.\n",
      "  warnings.warn(\"No unit given to wavelength, assuming Angstroms.\")\n"
     ]
    }
   ],
   "source": [
    "#the first trim on the wavelegth array to ensure a solid stack\n",
    "\n",
    "trim_spec = []\n",
    "\n",
    "for i in range(len(scaled_spec)):       \n",
    "    \n",
    "    trim_spec.append(XSpectrum1D(scaled_spec[i].data[\"wave\"][0][440:1500],\n",
    "                                scaled_spec[i].data[\"flux\"][0][440:1500],\n",
    "                                scaled_spec[i].data[\"sig\"][0][440:1500]))\n",
    "\n",
    "collate = ltsu.collate(trim_spec)\n",
    "\n",
    "print(\"Number of spectra to be stacked =\", collate.nspec)"
   ]
  },
  {
   "cell_type": "code",
   "execution_count": 8,
   "metadata": {
    "collapsed": false
   },
   "outputs": [],
   "source": [
    "#rebin and stack\n",
    "rest_spec = ltsu.rebin_to_rest(collate,g_red, 200*u.km/u.s,grow_bad_sig = True)\n",
    "\n",
    "stack = ltsu.smash_spectra(rest_spec)"
   ]
  },
  {
   "cell_type": "markdown",
   "metadata": {},
   "source": [
    "# The bootstrap method"
   ]
  },
  {
   "cell_type": "code",
   "execution_count": 11,
   "metadata": {
    "collapsed": true
   },
   "outputs": [],
   "source": [
    "R = (len(trim_spec)) #restraints on the random variable\n",
    "\n",
    "M = len(trim_spec[0].flux) #columns\n",
    "\n",
    "N = 10000 #rows"
   ]
  },
  {
   "cell_type": "code",
   "execution_count": 12,
   "metadata": {
    "collapsed": false
   },
   "outputs": [
    {
     "name": "stdout",
     "output_type": "stream",
     "text": [
      "13814.25610780716\n"
     ]
    }
   ],
   "source": [
    "#the bootstrap\n",
    "import time\n",
    "start = time.time()\n",
    "\n",
    "N_stack = []\n",
    "\n",
    "for i in np.arange(N):\n",
    "    \n",
    "    choice = np.asarray(ran.randint(0,R,R)) #the shuffle\n",
    "\n",
    "    rand_spec = np.asarray([rest_spec[index] for index in choice])\n",
    "\n",
    "    rand_collate = ltsu.collate(rand_spec) #collate and stack\n",
    "\n",
    "    N_stack.append(ltsu.smash_spectra(rand_collate))\n",
    "\n",
    "\n",
    "end = time.time()\n",
    "print(end - start)"
   ]
  },
  {
   "cell_type": "code",
   "execution_count": 13,
   "metadata": {
    "collapsed": false
   },
   "outputs": [],
   "source": [
    "N_flux = np.array([entry.flux for entry in N_stack]) #getting into a np.array for matrix math\n",
    "\n",
    "N_matrix = np.array([N_flux[i] - stack.flux for i in range(N)])"
   ]
  },
  {
   "cell_type": "code",
   "execution_count": 14,
   "metadata": {
    "collapsed": false
   },
   "outputs": [],
   "source": [
    "tranpose =  np.transpose(N_matrix) #matrix math\n",
    "\n",
    "covariance = np.dot(tranpose,N_matrix)\n",
    "\n",
    "sigma = np.sqrt(np.diagonal(covariance)/(N-1)) #the final error array"
   ]
  },
  {
   "cell_type": "code",
   "execution_count": 15,
   "metadata": {
    "collapsed": false
   },
   "outputs": [
    {
     "name": "stdout",
     "output_type": "stream",
     "text": [
      "941\n",
      "941\n",
      "941\n"
     ]
    }
   ],
   "source": [
    "print(len(stack.flux)) #a sanity check\n",
    "print(len(stack.wavelength))\n",
    "print(len(sigma))"
   ]
  },
  {
   "cell_type": "code",
   "execution_count": 23,
   "metadata": {
    "collapsed": false
   },
   "outputs": [
    {
     "name": "stderr",
     "output_type": "stream",
     "text": [
      "/home/jsm/.pyenv/versions/anaconda3-2.4.1/lib/python3.5/site-packages/linetools-0.3.dev2065-py3.5.egg/linetools/spectra/xspectrum1d.py:254: UserWarning: No unit given to wavelength, assuming Angstroms.\n",
      "  warnings.warn(\"No unit given to wavelength, assuming Angstroms.\")\n"
     ]
    }
   ],
   "source": [
    "composite = XSpectrum1D(stack.wavelength,stack.flux,sig=sigma) #the full composite"
   ]
  },
  {
   "cell_type": "code",
   "execution_count": 24,
   "metadata": {
    "collapsed": false
   },
   "outputs": [
    {
     "data": {
      "image/png": "[encoded data removed]",
      "text/plain": [
       "<matplotlib.figure.Figure at 0x7fe283260908>"
      ]
     },
     "metadata": {},
     "output_type": "display_data"
    }
   ],
   "source": [
    "composite.plot(xlim=(1000,1400))"
   ]
  },
  {
   "cell_type": "code",
   "execution_count": 25,
   "metadata": {
    "collapsed": false
   },
   "outputs": [
    {
     "name": "stdout",
     "output_type": "stream",
     "text": [
      "Wrote spectrum to LBG_stack_3.0.fits\n"
     ]
    }
   ],
   "source": [
    "composite.write_to_fits(\"LBG_stack_3.0.fits\")"
   ]
  },
  {
   "cell_type": "code",
   "execution_count": null,
   "metadata": {
    "collapsed": true
   },
   "outputs": [],
   "source": []
  }
 ],
 "metadata": {
  "kernelspec": {
   "display_name": "Python 3",
   "language": "python",
   "name": "python3"
  },
  "language_info": {
   "codemirror_mode": {
    "name": "ipython",
    "version": 3
   },
   "file_extension": ".py",
   "mimetype": "text/x-python",
   "name": "python",
   "nbconvert_exporter": "python",
   "pygments_lexer": "ipython3",
   "version": "3.5.4"
  }
 },
 "nbformat": 4,
 "nbformat_minor": 0
}
