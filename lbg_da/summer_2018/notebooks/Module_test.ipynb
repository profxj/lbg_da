{
 "cells": [
  {
   "cell_type": "code",
   "execution_count": 3,
   "metadata": {
    "collapsed": true
   },
   "outputs": [],
   "source": [
    "import numpy as np\n",
    "from astropy.io import fits\n",
    "from astropy.table import Table as Table\n",
    "import matplotlib.pyplot as plt\n",
    "from linetools.spectra import utils as ltsu\n",
    "from linetools.spectra.xspectrum1d import XSpectrum1D\n",
    "import astropy.units as u\n",
    "from astropy import constants as const"
   ]
  },
  {
   "cell_type": "code",
   "execution_count": 7,
   "metadata": {
    "collapsed": true
   },
   "outputs": [],
   "source": [
    "def composite(spec_atr, basestring, s2n_min, dv):\n",
    "\n",
    "\n",
    "    \"\"\"Stack XSpec files from a table of attributes\n",
    "    Parameters\n",
    "    ----------\n",
    "    spec_atr : table(ascii), includes spectra filenames and their Zem values\n",
    "    basestring : str, the path to the spectra filenames\n",
    "    s2n : float, the minimum value of s/n\n",
    "    dv : float, velocity width of new pixels for rebin will be measured in km/s\n",
    "    \"\"\"\n",
    "\n",
    "    import numpy as np\n",
    "    from astropy.io import fits\n",
    "    from astropy.table import Table as Table\n",
    "    import matplotlib.pyplot as plt\n",
    "    from linetools.spectra import utils as ltsu\n",
    "    from linetools.spectra.xspectrum1d import XSpectrum1D\n",
    "    import astropy.units as u\n",
    "    from array import array\n",
    "    from astropy import constants as const\n",
    "\n",
    "\n",
    "    # an initial filter to ensure the spectra included cover lya\n",
    "\n",
    "    init_spec = []\n",
    "\n",
    "    init_z = []\n",
    "\n",
    "    for entry in spec_atr:\n",
    "\n",
    "        if 2.00 < entry[\"zspec\"] < 2.9:\n",
    "\n",
    "            temp = XSpectrum1D.from_file(basestring + entry[\"Filename\"])\n",
    "\n",
    "            if temp.wvmin < (1216 * u.AA) * (1 + entry[\"zspec\"]) < temp.wvmax:\n",
    "                init_z.append(entry[\"zspec\"])\n",
    "\n",
    "                init_spec.append(XSpectrum1D.from_file(basestring + entry[\"Filename\"]))\n",
    "\n",
    "    init_spec = np.asarray(init_spec)\n",
    "\n",
    "    init_z = np.asarray(init_z)\n",
    "\n",
    "    print(\"Number of spectra (Nspec) after 1st filter =\", len(init_spec))\n",
    "\n",
    "\n",
    "    # second filter to ensure that I have full coverage of the values I want\n",
    "\n",
    "    wave_range_mask = [(3600 * u.AA > spec.wvmin) and (4600 * u.AA < spec.wvmax) for spec in init_spec]\n",
    "\n",
    "    speclist = init_spec[wave_range_mask]\n",
    "\n",
    "    z_val = init_z[wave_range_mask]\n",
    "\n",
    "    print(\"Nspec after 2nd filter=\", len(speclist))\n",
    "\n",
    "\n",
    "    # now to calculate the local S/N and use it as the third filter\n",
    "\n",
    "    wave = np.linspace(3600, 4600)\n",
    "\n",
    "    s2n = []\n",
    "\n",
    "    for i in range(len(speclist)):\n",
    "\n",
    "        s2n.append([XSpectrum1D.get_local_s2n(speclist[i], wavelength * u.AA)[0] for wavelength in wave])\n",
    "\n",
    "    s2n_mean = []\n",
    "\n",
    "    s2n_med = []\n",
    "\n",
    "    for i in s2n:\n",
    "\n",
    "        s2n_mean.append(np.mean(i))\n",
    "\n",
    "        s2n_med.append(np.median(i))\n",
    "\n",
    "    # an array to match the spectra with their s2n values\n",
    "    trim = np.asarray([speclist, s2n_mean]).T\n",
    "\n",
    "    # grabbing only those above the min value\n",
    "    trimmed_spec = trim[trim[:, 1] > s2n_min][:, 0]\n",
    "\n",
    "    trimmed_z = z_val[trim[:, 1] > s2n_min]\n",
    "\n",
    "    print(\"Nspec after 3rd filter=\", len(trimmed_spec))\n",
    "\n",
    "\n",
    "    # normalizing the flux\n",
    "    flux_med = [np.median(trimmed_spec[i].flux) for i in range(len(trimmed_spec))]\n",
    "\n",
    "    scaled_flux = np.asarray([(trimmed_spec[i].flux / flux_med[i]) for i in range(len(trimmed_spec))])\n",
    "\n",
    "    # print(len(scaled_flux[0]))\n",
    "\n",
    "    scaled_spec = []\n",
    "\n",
    "    # the new scaled Xspec objects\n",
    "    for i in range(len(trimmed_spec)):\n",
    "\n",
    "        scaled_spec.append(XSpectrum1D(trimmed_spec[i].wavelength, scaled_flux[i], sig=trimmed_spec[i].sig))\n",
    "\n",
    "\n",
    "    # a final cut on the wavelegth array to ensure a solid stack\n",
    "    new_spec = []\n",
    "\n",
    "    for i in range(len(scaled_spec)):\n",
    "        new_spec.append(XSpectrum1D(scaled_spec[i].data[\"wave\"][0][640:1460],\n",
    "                                    scaled_spec[i].data[\"flux\"][0][640:1460],\n",
    "                                    scaled_spec[i].data[\"sig\"][0][640:1460]))\n",
    "\n",
    "    collate = ltsu.collate(new_spec)\n",
    "\n",
    "    # rest frame wave values\n",
    "    rest_spec = ltsu.rebin_to_rest(collate, trimmed_z, dv * u.km/u.s, grow_bad_sig=True)\n",
    "\n",
    "    # the stack!\n",
    "    stack = ltsu.smash_spectra(rest_spec)\n",
    "\n",
    "    return stack\n"
   ]
  },
  {
   "cell_type": "code",
   "execution_count": 8,
   "metadata": {},
   "outputs": [
    {
     "name": "stdout",
     "output_type": "stream",
     "text": [
      "Number of spectra (Nspec) after 1st filter = 210\n",
      "Nspec after 2nd filter= 156\n",
      "Nspec after 3rd filter= 7\n"
     ]
    },
    {
     "name": "stderr",
     "output_type": "stream",
     "text": [
      "/home/jsm/PycharmProjects/Summer_Research_2018/linetools/linetools/spectra/xspectrum1d.py:254: UserWarning: No unit given to wavelength, assuming Angstroms.\n",
      "  warnings.warn(\"No unit given to wavelength, assuming Angstroms.\")\n"
     ]
    },
    {
     "data": {
      "text/plain": [
       "<XSpectrum1D: file=none, nspec=1, select=0, wvmin=1006.47 Angstrom, wvmax=1575.56 Angstrom>"
      ]
     },
     "execution_count": 8,
     "metadata": {},
     "output_type": "execute_result"
    }
   ],
   "source": [
    "spec_atr = Table.read('/home/jsm/PycharmProjects/Summer_Research_2018/old_spec/spec_atr.txt', format = 'ascii') \n",
    "\n",
    "#an initial filter to ensure the spec included cover lya\n",
    "basestring = '/home/jsm/PycharmProjects/Summer_Research_2018/old_spec/'\n",
    "\n",
    "composite(spec_atr, basestring, 5, 200)"
   ]
  },
  {
   "cell_type": "code",
   "execution_count": null,
   "metadata": {
    "collapsed": true
   },
   "outputs": [],
   "source": []
  }
 ],
 "metadata": {
  "kernelspec": {
   "display_name": "Python 3",
   "language": "python",
   "name": "python3"
  },
  "language_info": {
   "codemirror_mode": {
    "name": "ipython",
    "version": 3
   },
   "file_extension": ".py",
   "mimetype": "text/x-python",
   "name": "python",
   "nbconvert_exporter": "python",
   "pygments_lexer": "ipython3",
   "version": "3.6.3"
  }
 },
 "nbformat": 4,
 "nbformat_minor": 2
}
