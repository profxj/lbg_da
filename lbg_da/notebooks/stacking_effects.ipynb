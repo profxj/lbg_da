{
 "cells": [
  {
   "cell_type": "code",
   "execution_count": 3,
   "metadata": {},
   "outputs": [],
   "source": [
    "import numpy as np\n",
    "from astropy.io import fits\n",
    "from astropy.table import Table as Table\n",
    "import matplotlib.pyplot as plt\n",
    "from linetools.spectra import utils as ltsu\n",
    "from linetools.spectra.xspectrum1d import XSpectrum1D\n",
    "import astropy.units as u\n",
    "from astropy import constants as const\n",
    "from numpy import random as ran\n",
    "%matplotlib notebook"
   ]
  },
  {
   "cell_type": "markdown",
   "metadata": {},
   "source": [
    "# the same routine as stack.py"
   ]
  },
  {
   "cell_type": "code",
   "execution_count": 4,
   "metadata": {},
   "outputs": [
    {
     "name": "stderr",
     "output_type": "stream",
     "text": [
      "/anaconda3/lib/python3.7/site-packages/astropy/units/quantity.py:463: RuntimeWarning: invalid value encountered in greater\n",
      "  result = super().__array_ufunc__(function, method, *arrays, **kwargs)\n"
     ]
    }
   ],
   "source": [
    "z_bin = ([2.25,2.75])\n",
    "\n",
    "\n",
    "path_16 = \"/Users/jsmonzon/IGM-UCSC/Spectra/2016/\"\n",
    "\n",
    "path_17 = \"/Users/jsmonzon/IGM-UCSC/Spectra/2017/\"\n",
    "\n",
    "spec_atr_16 = Table.read(path_16 + \"spec_atr.txt\", format='ascii')\n",
    "\n",
    "spec_atr_17 = Table.read(path_17 + \"spec_atr.txt\", format='ascii')\n",
    "\n",
    "    # read in\n",
    "\n",
    "spec_16 = []\n",
    "\n",
    "z_16 = []\n",
    "\n",
    "coord_16 = []\n",
    "\n",
    "for entry in spec_atr_16:  # from the CLAMATO 2016 survey\n",
    "\n",
    "    if np.min(z_bin) < entry[\"zspec\"] < np.max(z_bin):  # creating the bin size\n",
    "\n",
    "        if entry[\"Conf\"] < 10.0:  # excluding any QSOs\n",
    "\n",
    "            temp = XSpectrum1D.from_file(path_16 + entry[\"Filename\"])\n",
    "\n",
    "            if temp.wvmin < (1216 * u.AA) * (1 + entry[\"zspec\"]) < temp.wvmax:\n",
    "\n",
    "                coord_16.append([entry[\"RA\"], entry[\"Dec\"]])  # coordinates in deg\n",
    "\n",
    "                z_16.append(entry[\"zspec\"])\n",
    "\n",
    "                spec_16.append(XSpectrum1D.from_file(path_16 + entry[\"Filename\"]))\n",
    "\n",
    "spec_17 = []\n",
    "\n",
    "z_17 = []\n",
    "\n",
    "coord_17 = []\n",
    "\n",
    "for entry in spec_atr_17:\n",
    "\n",
    "    if np.min(z_bin) < entry[\"col5\"] < np.max(z_bin):\n",
    "\n",
    "        if entry[\"col4\"] < 10.0:\n",
    "\n",
    "            temp = XSpectrum1D.from_file(path_17 + entry[\"col1\"])\n",
    "\n",
    "            if temp.wvmin < (1120 * u.AA) * (1 + entry[\"col5\"]) < temp.wvmax:\n",
    "\n",
    "                coord_17.append([entry[\"col7\"], entry[\"col8\"]])  # coordinates in deg\n",
    "\n",
    "                z_17.append(entry[\"col5\"])\n",
    "\n",
    "                spec_17.append(XSpectrum1D.from_file(path_17 + entry[\"col1\"]))"
   ]
  },
  {
   "cell_type": "code",
   "execution_count": 5,
   "metadata": {},
   "outputs": [
    {
     "name": "stdout",
     "output_type": "stream",
     "text": [
      "Number of spectra = 401\n"
     ]
    }
   ],
   "source": [
    "spec = np.asarray(spec_16 + spec_17)\n",
    "\n",
    "print(\"Number of spectra =\", len(spec))\n",
    "\n",
    "red = np.asarray(z_16 + z_17)\n",
    "\n",
    "coord = np.asarray(coord_16 + coord_17)"
   ]
  },
  {
   "cell_type": "code",
   "execution_count": 6,
   "metadata": {},
   "outputs": [],
   "source": [
    "def cut_sample(spec, red, coord, thres, s2n):\n",
    "    \n",
    "    \"\"\"\n",
    "    :param spec: [array] of XSpectrum1D objects: use clamato_read.py\n",
    "    :param red: [array] of their redshift values (z)\n",
    "    :param coord: [array] of coordinates\n",
    "    :param thres: [int] value for the maximum std to include in the lyman limit cut\n",
    "    :param s2n: [float] lowest value of S/N to include in the cut\n",
    "    \"\"\"\n",
    "\n",
    "    print(\"Number of spectra in the 2.25 < z < 2.75 bin (full sample) =\", len(spec))\n",
    "\n",
    "    # First we exclude any galaxies with 'non-zero' fluxes past the lyman limit\n",
    "    # by removing those that are past the sigma threshold\n",
    "\n",
    "    r = range(len(spec))\n",
    "\n",
    "    temp = [np.asarray(spec[i].wavelength / (1 + red[i])) for i in r]  # rest-frame\n",
    "\n",
    "    lylim = [(entry < 912) for entry in temp] # a mask to select the values past 912A\n",
    "\n",
    "    lylim_flux = np.asarray([spec[i].flux[lylim[i]] for i in r])\n",
    "    \n",
    "    lylim_med = np.asarray([np.median(i) for i in lylim_flux])\n",
    "    \n",
    "    lylim_dist = lylim_med[~np.isnan(lylim_med)]\n",
    "    \n",
    "    mean = np.mean(lylim_dist)\n",
    "    \n",
    "    std = np.std(lylim_dist)\n",
    "    \n",
    "    lylim_cut = [(i < (mean - (thres*std))) & ((mean + (thres*std)) < i) for i in lylim_dist]\n",
    "        \n",
    "    \n",
    "    plt.figure(figsize=(10,10))\n",
    "    plt.hist(lylim_dist, bins = 60,edgecolor='white', linewidth=1.2, label=\"160 Sample\", color=\"grey\")\n",
    "    plt.vlines((mean - (thres*std)),0,100, linestyle=\"--\", color=\"green\", label = \"1 $\\sigma$\")\n",
    "    plt.vlines((mean + (thres*std)),0,100, linestyle=\"--\", color=\"green\")\n",
    "    \n",
    "    plt.vlines((mean - (thres*std*2)),0,80, linestyle=\"--\", color=\"orange\", label = \"2 $\\sigma$\")\n",
    "    plt.vlines((mean + (thres*std*2)),0,80, linestyle=\"--\", color=\"orange\")\n",
    "    \n",
    "    plt.vlines((mean - (thres*std*3)),0,60, linestyle=\"--\", color=\"red\", label = \"3 $\\sigma$\")\n",
    "    plt.vlines((mean + (thres*std*3)),0,60, linestyle=\"--\", color=\"red\")\n",
    "    \n",
    "    plt.vlines(mean,0,120, linestyle=\"--\", color=\"black\", label = \"mean\")\n",
    "        \n",
    "    \n",
    "    plt.ylabel(\"# of Spectra\",fontsize=15)\n",
    "    plt.xlabel(\"Median flux values blueward of 912$\\AA$\",fontsize=15)\n",
    "    plt.legend(fontsize=12)\n",
    "    plt.xticks(fontsize=12)\n",
    "    plt.yticks(fontsize=12)\n",
    "    \n",
    "    plt.xlim(-1,1)\n",
    "    \n",
    "    plt.show()\n",
    "    \n",
    "\n",
    "    \n",
    "    \n",
    "    "
   ]
  },
  {
   "cell_type": "code",
   "execution_count": 7,
   "metadata": {},
   "outputs": [
    {
     "name": "stdout",
     "output_type": "stream",
     "text": [
      "Number of spectra in the 2.25 < z < 2.75 bin (full sample) = 401\n"
     ]
    },
    {
     "name": "stderr",
     "output_type": "stream",
     "text": [
      "/anaconda3/lib/python3.7/site-packages/numpy/core/fromnumeric.py:3118: RuntimeWarning: Mean of empty slice.\n",
      "  out=out, **kwargs)\n",
      "/anaconda3/lib/python3.7/site-packages/numpy/core/_methods.py:85: RuntimeWarning: invalid value encountered in true_divide\n",
      "  ret = ret.dtype.type(ret / rcount)\n"
     ]
    },
    {
     "data": {
      "image/png": "[encoded data removed]",
      "text/plain": [
       "<Figure size 720x720 with 1 Axes>"
      ]
     },
     "metadata": {
      "needs_background": "light"
     },
     "output_type": "display_data"
    },
    {
     "ename": "TypeError",
     "evalue": "cannot unpack non-iterable NoneType object",
     "output_type": "error",
     "traceback": [
      "\u001b[0;31m---------------------------------------------------------------------------\u001b[0m",
      "\u001b[0;31mTypeError\u001b[0m                                 Traceback (most recent call last)",
      "\u001b[0;32m<ipython-input-7-1dcba9ececb8>\u001b[0m in \u001b[0;36m<module>\u001b[0;34m\u001b[0m\n\u001b[0;32m----> 1\u001b[0;31m \u001b[0mspec\u001b[0m\u001b[0;34m,\u001b[0m \u001b[0mred\u001b[0m\u001b[0;34m,\u001b[0m \u001b[0mcoord\u001b[0m \u001b[0;34m=\u001b[0m \u001b[0mcut_sample\u001b[0m\u001b[0;34m(\u001b[0m\u001b[0mspec\u001b[0m\u001b[0;34m,\u001b[0m \u001b[0mred\u001b[0m\u001b[0;34m,\u001b[0m \u001b[0mcoord\u001b[0m\u001b[0;34m,\u001b[0m \u001b[0;36m1\u001b[0m\u001b[0;34m,\u001b[0m \u001b[0;36m2.5\u001b[0m\u001b[0;34m)\u001b[0m\u001b[0;34m\u001b[0m\u001b[0;34m\u001b[0m\u001b[0m\n\u001b[0m",
      "\u001b[0;31mTypeError\u001b[0m: cannot unpack non-iterable NoneType object"
     ]
    }
   ],
   "source": [
    "spec, red, coord = cut_sample(spec, red, coord, 1, 2.5)"
   ]
  },
  {
   "cell_type": "code",
   "execution_count": null,
   "metadata": {},
   "outputs": [],
   "source": [
    "collate = ltsu.collate(t_spec)  # to get a single XSpec object\n",
    "\n",
    "fix = []  # to make sure none of the values included will mess up the stack\n",
    "\n",
    "a = collate.data['wave']\n",
    "\n",
    "for i in range(collate.nspec):\n",
    "\n",
    "    if np.min(a[i]) == 0.0:\n",
    "        fix.append(i)\n",
    "\n",
    "if len(fix) > 0:\n",
    "\n",
    "    print(\"deleting these spectra\", fix)\n",
    "\n",
    "    good_spec = np.delete(t_spec,fix) # exclude all spec[fix]\n",
    "\n",
    "    red = np.delete(red,fix)\n",
    "    \n",
    "print(\"Number of spectra to be stacked =\", collate.nspec)\n",
    "\n",
    "collate = ltsu.collate(good_spec)\n"
   ]
  },
  {
   "cell_type": "code",
   "execution_count": null,
   "metadata": {},
   "outputs": [],
   "source": [
    "rest_spec = ltsu.rebin_to_rest(collate, red, 300 * u.km / u.s, grow_bad_sig=True)"
   ]
  },
  {
   "cell_type": "code",
   "execution_count": null,
   "metadata": {},
   "outputs": [],
   "source": [
    "stack = ltsu.smash_spectra(rest_spec)\n",
    "\n",
    "stack.plot()"
   ]
  },
  {
   "cell_type": "markdown",
   "metadata": {},
   "source": [
    "# Example Spec"
   ]
  },
  {
   "cell_type": "code",
   "execution_count": null,
   "metadata": {},
   "outputs": [],
   "source": [
    "plt.figure(figsize=(10, 5))\n",
    "\n",
    "plt.plot(spec[7].wavelength,spec[7].flux,color=\"black\",label=\"LBG (z~2.45) \")\n",
    "plt.plot(spec[7].wavelength,spec[7].sig, color=\"grey\",label=\"Flux Error\")\n",
    "\n",
    "plt.hlines(0,3500,5000, color=\"#fd8d3c\",linestyle=\"--\")\n",
    "\n",
    "plt.text(4215,.15,\"$Lyα$\",fontsize=12,color=\"#fd8d3c\")\n",
    "\n",
    "plt.xlabel(\"$\\lambda_{obs}$\",fontsize=15)\n",
    "plt.ylabel(\"Relative flux\",fontsize=15)\n",
    "\n",
    "plt.legend(fontsize=12)\n",
    "plt.xticks(fontsize=12)\n",
    "plt.yticks(fontsize=12)\n",
    "\n",
    "plt.xlim(3500,5000)\n",
    "plt.ylim(-.05,.25)\n",
    "plt.savefig(\"/Users/jsmonzon/IGM-UCSC/figures/2019/exspec.pdf\")\n",
    "plt.show()"
   ]
  },
  {
   "cell_type": "code",
   "execution_count": null,
   "metadata": {},
   "outputs": [],
   "source": [
    "plt.fill_between?"
   ]
  },
  {
   "cell_type": "code",
   "execution_count": null,
   "metadata": {},
   "outputs": [],
   "source": [
    "spec[67].plot()"
   ]
  },
  {
   "cell_type": "code",
   "execution_count": 25,
   "metadata": {},
   "outputs": [],
   "source": [
    "arr1 = np.linspace(0,14,12)\n",
    "\n",
    "arr2 = np.linspace(14,123,22)"
   ]
  },
  {
   "cell_type": "code",
   "execution_count": 26,
   "metadata": {},
   "outputs": [],
   "source": [
    "yaga = np.append(arr1,arr2)"
   ]
  },
  {
   "cell_type": "code",
   "execution_count": 27,
   "metadata": {},
   "outputs": [
    {
     "data": {
      "text/plain": [
       "array([  0.        ,   1.27272727,   2.54545455,   3.81818182,\n",
       "         5.09090909,   6.36363636,   7.63636364,   8.90909091,\n",
       "        10.18181818,  11.45454545,  12.72727273,  14.        ,\n",
       "        14.        ,  19.19047619,  24.38095238,  29.57142857,\n",
       "        34.76190476,  39.95238095,  45.14285714,  50.33333333,\n",
       "        55.52380952,  60.71428571,  65.9047619 ,  71.0952381 ,\n",
       "        76.28571429,  81.47619048,  86.66666667,  91.85714286,\n",
       "        97.04761905, 102.23809524, 107.42857143, 112.61904762,\n",
       "       117.80952381, 123.        ])"
      ]
     },
     "execution_count": 27,
     "metadata": {},
     "output_type": "execute_result"
    }
   ],
   "source": [
    "yaga"
   ]
  },
  {
   "cell_type": "code",
   "execution_count": 18,
   "metadata": {},
   "outputs": [
    {
     "data": {
      "text/plain": [
       "array([ 0.        ,  0.28571429,  0.57142857,  0.85714286,  1.14285714,\n",
       "        1.42857143,  1.71428571,  2.        ,  2.28571429,  2.57142857,\n",
       "        2.85714286,  3.14285714,  3.42857143,  3.71428571,  4.        ,\n",
       "        4.28571429,  4.57142857,  4.85714286,  5.14285714,  5.42857143,\n",
       "        5.71428571,  6.        ,  6.28571429,  6.57142857,  6.85714286,\n",
       "        7.14285714,  7.42857143,  7.71428571,  8.        ,  8.28571429,\n",
       "        8.57142857,  8.85714286,  9.14285714,  9.42857143,  9.71428571,\n",
       "       10.        , 10.28571429, 10.57142857, 10.85714286, 11.14285714,\n",
       "       11.42857143, 11.71428571, 12.        , 12.28571429, 12.57142857,\n",
       "       12.85714286, 13.14285714, 13.42857143, 13.71428571, 14.        ])"
      ]
     },
     "execution_count": 18,
     "metadata": {},
     "output_type": "execute_result"
    }
   ],
   "source": [
    "arr1"
   ]
  },
  {
   "cell_type": "code",
   "execution_count": 19,
   "metadata": {},
   "outputs": [
    {
     "data": {
      "text/plain": [
       "array([ 14.        ,  16.2244898 ,  18.44897959,  20.67346939,\n",
       "        22.89795918,  25.12244898,  27.34693878,  29.57142857,\n",
       "        31.79591837,  34.02040816,  36.24489796,  38.46938776,\n",
       "        40.69387755,  42.91836735,  45.14285714,  47.36734694,\n",
       "        49.59183673,  51.81632653,  54.04081633,  56.26530612,\n",
       "        58.48979592,  60.71428571,  62.93877551,  65.16326531,\n",
       "        67.3877551 ,  69.6122449 ,  71.83673469,  74.06122449,\n",
       "        76.28571429,  78.51020408,  80.73469388,  82.95918367,\n",
       "        85.18367347,  87.40816327,  89.63265306,  91.85714286,\n",
       "        94.08163265,  96.30612245,  98.53061224, 100.75510204,\n",
       "       102.97959184, 105.20408163, 107.42857143, 109.65306122,\n",
       "       111.87755102, 114.10204082, 116.32653061, 118.55102041,\n",
       "       120.7755102 , 123.        ])"
      ]
     },
     "execution_count": 19,
     "metadata": {},
     "output_type": "execute_result"
    }
   ],
   "source": [
    "arr2"
   ]
  },
  {
   "cell_type": "code",
   "execution_count": null,
   "metadata": {},
   "outputs": [],
   "source": []
  }
 ],
 "metadata": {
  "kernelspec": {
   "display_name": "Python 3",
   "language": "python",
   "name": "python3"
  },
  "language_info": {
   "codemirror_mode": {
    "name": "ipython",
    "version": 3
   },
   "file_extension": ".py",
   "mimetype": "text/x-python",
   "name": "python",
   "nbconvert_exporter": "python",
   "pygments_lexer": "ipython3",
   "version": "3.7.3"
  }
 },
 "nbformat": 4,
 "nbformat_minor": 1
}
