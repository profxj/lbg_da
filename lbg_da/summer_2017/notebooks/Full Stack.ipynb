{
 "cells": [
  {
   "cell_type": "code",
   "execution_count": 82,
   "metadata": {
    "collapsed": true
   },
   "outputs": [],
   "source": [
    "import numpy as np\n",
    "from astropy.io import fits\n",
    "from astropy.table import Table\n",
    "import matplotlib.pyplot as plt\n",
    "from linetools.spectra import utils as ltsu\n",
    "from linetools.spectra.xspectrum1d import XSpectrum1D\n",
    "import astropy.units as u\n",
    "from array import array\n",
    "import fsps"
   ]
  },
  {
   "cell_type": "code",
   "execution_count": 83,
   "metadata": {
    "collapsed": true
   },
   "outputs": [],
   "source": [
    "#to order and match the spec with their z values\n",
    "spec_atr = Table.read('/home/sebastian/Spectra/Spec Attributes.txt', format = 'ascii') \n",
    "\n",
    "#an initial filter to ensure the spec included cover lya\n",
    "basestring = '/home/sebastian/Spectra/spec/'\n",
    "\n",
    "init_spec = []\n",
    "\n",
    "init_z = []\n",
    "\n",
    "for entry in spec_atr:\n",
    "    \n",
    "    if entry[\"zspec\"] > 0.00:\n",
    "        \n",
    "        temp = XSpectrum1D.from_file(basestring + entry['Filename'])\n",
    "        \n",
    "        if temp.wvmin < (1216*u.AA)*(1+entry[\"zspec\"]) < temp.wvmax:\n",
    "                \n",
    "            init_z.append(entry['zspec'])\n",
    "                \n",
    "            init_spec.append(XSpectrum1D.from_file(basestring + entry['Filename']))"
   ]
  },
  {
   "cell_type": "code",
   "execution_count": 84,
   "metadata": {
    "collapsed": true
   },
   "outputs": [],
   "source": [
    "#a mask to exclude the negative siga values and ensure a good rebin\n",
    "spec_ar = np.asarray(init_spec)\n",
    "\n",
    "z_ar = np.asarray(init_z)\n",
    "\n",
    "mask = [min(spec.sig)>0.0 for spec in spec_ar]  \n",
    "\n",
    "speclist = spec_ar[mask]\n",
    "\n",
    "z_val = z_ar[mask]"
   ]
  },
  {
   "cell_type": "code",
   "execution_count": 101,
   "metadata": {},
   "outputs": [],
   "source": [
    "#an s2n filter in the observed frame over a range of wavelength values\n",
    "wave = [4500,5150]\n",
    "\n",
    "s2n = []\n",
    "\n",
    "for i in range(len(speclist)):\n",
    "    \n",
    "    s2n.append([XSpectrum1D.get_local_s2n(speclist[i],entry*u.AA)[0] for entry in wave])\n",
    "\n",
    "s2n_av = []\n",
    "\n",
    "for i in s2n:\n",
    "    \n",
    "    s2n_av.append(np.median(i))\n",
    "\n",
    "s2n_min = 2.75"
   ]
  },
  {
   "cell_type": "code",
   "execution_count": 102,
   "metadata": {
    "collapsed": true
   },
   "outputs": [],
   "source": [
    "#an array to match the spectra with their s2n values\n",
    "trim = np.asarray([speclist, s2n_av]).T  \n",
    "\n",
    "\n",
    "#grabbing only those above the min value\n",
    "trimmed_spec = trim[trim[:, 1] > s2n_min][:, 0]  \n",
    "\n",
    "\n",
    "#to match the new list with z values\n",
    "trimmed_z = z_val[trim[:, 1] > s2n_min]"
   ]
  },
  {
   "cell_type": "code",
   "execution_count": 103,
   "metadata": {},
   "outputs": [
    {
     "name": "stderr",
     "output_type": "stream",
     "text": [
      "/home/sebastian/linetools/linetools/spectra/xspectrum1d.py:248: UserWarning: No unit given to wavelength, assuming Angstroms.\n",
      "  warnings.warn(\"No unit given to wavelength, assuming Angstroms.\")\n"
     ]
    },
    {
     "data": {
      "text/plain": [
       "51"
      ]
     },
     "execution_count": 103,
     "metadata": {},
     "output_type": "execute_result"
    }
   ],
   "source": [
    "#normailzing the flux\n",
    "flux_av = []\n",
    "\n",
    "#finding the scaling factor for the flux array\n",
    "for i in range(len(trimmed_spec)):    \n",
    "    \n",
    "    flux_av.append(np.median(trimmed_spec[i].flux))\n",
    "    \n",
    "factor_1 = max(flux_av)\n",
    "    \n",
    "scale = []    \n",
    "        \n",
    "for number in flux_av:\n",
    "    \n",
    "    scale.append(factor_1/(number))\n",
    "    \n",
    "scaled_spec = []\n",
    "\n",
    "#the new scaled Xspec objects\n",
    "for i in range(len(trimmed_spec)):       \n",
    "    \n",
    "    scaled_spec.append(XSpectrum1D(trimmed_spec[i].wavelength,trimmed_spec[i].flux*scale[i],sig=trimmed_spec[i].sig))\n",
    "    \n",
    "collate = ltsu.collate(scaled_spec)\n",
    "\n",
    "collate.nspec"
   ]
  },
  {
   "cell_type": "code",
   "execution_count": 106,
   "metadata": {
    "scrolled": true
   },
   "outputs": [
    {
     "data": {
      "image/png": "[encoded data removed]",
      "text/plain": [
       "<matplotlib.figure.Figure at 0x7f6f3e90d860>"
      ]
     },
     "metadata": {},
     "output_type": "display_data"
    }
   ],
   "source": [
    "#rest frame wave values\n",
    "rest_spec = ltsu.rebin_to_rest(collate,trimmed_z, 200*u.km/u.s)  \n",
    "\n",
    "#the stack!\n",
    "stack = ltsu.smash_spectra(rest_spec)\n",
    "\n",
    "waverng = (1250,1600)\n",
    "stack.plot(xlim=(waverng))"
   ]
  },
  {
   "cell_type": "code",
   "execution_count": 105,
   "metadata": {},
   "outputs": [
    {
     "name": "stdout",
     "output_type": "stream",
     "text": [
      "Wrote spectrum to fullstack.fits\n"
     ]
    }
   ],
   "source": [
    "stack.write_to_fits(\"fullstack.fits\")"
   ]
  },
  {
   "cell_type": "code",
   "execution_count": null,
   "metadata": {
    "collapsed": true
   },
   "outputs": [],
   "source": []
  }
 ],
 "metadata": {
  "kernelspec": {
   "display_name": "Python 3",
   "language": "python",
   "name": "python3"
  },
  "language_info": {
   "codemirror_mode": {
    "name": "ipython",
    "version": 3
   },
   "file_extension": ".py",
   "mimetype": "text/x-python",
   "name": "python",
   "nbconvert_exporter": "python",
   "pygments_lexer": "ipython3",
   "version": "3.6.1"
  }
 },
 "nbformat": 4,
 "nbformat_minor": 2
}
