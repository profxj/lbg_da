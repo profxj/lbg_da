{
 "cells": [
  {
   "cell_type": "code",
   "execution_count": 1,
   "metadata": {},
   "outputs": [],
   "source": [
    "import numpy as np\n",
    "import matplotlib.pyplot as plt\n",
    "from astropy.table import Table\n",
    "import astropy.units as u\n",
    "from linetools.spectra.xspectrum1d import XSpectrum1D"
   ]
  },
  {
   "cell_type": "markdown",
   "metadata": {},
   "source": [
    "## The CLAMATO read in"
   ]
  },
  {
   "cell_type": "code",
   "execution_count": 2,
   "metadata": {},
   "outputs": [],
   "source": [
    "path_16 = \"../spectra/2016/\"\n",
    "path_17 = \"../spectra/2017/\"\n",
    "\n",
    "spec_atr_16 = Table.read(path_16 + \"spec_atr.txt\", format='ascii')\n",
    "spec_atr_17 = Table.read(path_17 + \"spec_atr.txt\", format='ascii')\n",
    "\n",
    "z_bin = [2.25,2.75]"
   ]
  },
  {
   "cell_type": "markdown",
   "metadata": {},
   "source": [
    "### 2016"
   ]
  },
  {
   "cell_type": "code",
   "execution_count": 3,
   "metadata": {},
   "outputs": [],
   "source": [
    "# read in\n",
    "spec_16 = []\n",
    "z_16 = []\n",
    "coord_16 = []\n",
    "ID_16 = []\n",
    "\n",
    "for entry in spec_atr_16:  # from the CLAMATO 2016 survey\n",
    "\n",
    "    if np.min(z_bin) <= entry[\"zspec\"] <= np.max(z_bin):  # creating the bin size\n",
    "\n",
    "        if entry[\"Conf\"] < 10.0:  # excluding any QSOs\n",
    "\n",
    "            temp = XSpectrum1D.from_file(path_16 + entry[\"Filename\"])\n",
    "\n",
    "            if temp.wvmin < (1216 * u.AA) * (1 + entry[\"zspec\"]) < temp.wvmax:\n",
    "\n",
    "                coord_16.append([entry[\"RA\"], entry[\"Dec\"]])  # coordinates in deg\n",
    "\n",
    "                z_16.append(entry[\"zspec\"])\n",
    "\n",
    "                spec_16.append(XSpectrum1D.from_file(path_16 + entry[\"Filename\"]))\n",
    "                \n",
    "                ID_16.append(entry[\"Filename\"])"
   ]
  },
  {
   "cell_type": "code",
   "execution_count": 4,
   "metadata": {},
   "outputs": [
    {
     "data": {
      "text/plain": [
       "145"
      ]
     },
     "execution_count": 4,
     "metadata": {},
     "output_type": "execute_result"
    }
   ],
   "source": [
    "len(spec_16)"
   ]
  },
  {
   "cell_type": "markdown",
   "metadata": {},
   "source": [
    "### 2017"
   ]
  },
  {
   "cell_type": "code",
   "execution_count": 5,
   "metadata": {},
   "outputs": [
    {
     "name": "stderr",
     "output_type": "stream",
     "text": [
      "/opt/anaconda3/lib/python3.7/site-packages/astropy/units/quantity.py:464: RuntimeWarning: invalid value encountered in greater\n",
      "  result = super().__array_ufunc__(function, method, *arrays, **kwargs)\n"
     ]
    }
   ],
   "source": [
    "spec_17 = []\n",
    "z_17 = []\n",
    "coord_17 = []\n",
    "ID_17 = []\n",
    "\n",
    "for entry in spec_atr_17:\n",
    "\n",
    "    if np.min(z_bin) <= entry[\"col5\"] <= np.max(z_bin):\n",
    "\n",
    "        if entry[\"col4\"] < 10.0:\n",
    "\n",
    "            temp = XSpectrum1D.from_file(path_17 + entry[\"col1\"])\n",
    "\n",
    "            if temp.wvmin < (1216 * u.AA) * (1 + entry[\"col5\"]) < temp.wvmax:\n",
    "\n",
    "                coord_17.append([entry[\"col7\"], entry[\"col8\"]])\n",
    "\n",
    "                z_17.append(entry[\"col5\"])\n",
    "                \n",
    "                spec_17.append(XSpectrum1D.from_file(path_17 + entry[\"col1\"]))     \n",
    "                \n",
    "                ID_17.append(entry[\"col1\"])"
   ]
  },
  {
   "cell_type": "code",
   "execution_count": 6,
   "metadata": {},
   "outputs": [
    {
     "data": {
      "text/plain": [
       "271"
      ]
     },
     "execution_count": 6,
     "metadata": {},
     "output_type": "execute_result"
    }
   ],
   "source": [
    "len(spec_17)"
   ]
  },
  {
   "cell_type": "code",
   "execution_count": 7,
   "metadata": {},
   "outputs": [
    {
     "name": "stdout",
     "output_type": "stream",
     "text": [
      "Number of spectra in the redshift bin: 416\n"
     ]
    }
   ],
   "source": [
    "spec = np.asarray(spec_16 + spec_17)\n",
    "red = np.asarray(z_16 + z_17)\n",
    "coord = np.asarray(coord_16 + coord_17)\n",
    "ID = np.asarray(ID_16 + ID_17)\n",
    "\n",
    "print(\"Number of spectra in the redshift bin:\", len(spec))\n",
    "\n",
    "z_16_tot = [entry[\"zspec\"] for entry in spec_atr_16]  # from the CLAMATO 2016 survey\n",
    "z_17_tot = [entry[\"col5\"] for entry in spec_atr_17]  # from the CLAMATO 2017 survey\n",
    "z_tot = z_16_tot + z_17_tot"
   ]
  },
  {
   "cell_type": "code",
   "execution_count": 8,
   "metadata": {},
   "outputs": [
    {
     "data": {
      "image/png": "[encoded data removed]",
      "text/plain": [
       "<Figure size 576x576 with 1 Axes>"
      ]
     },
     "metadata": {
      "needs_background": "light"
     },
     "output_type": "display_data"
    }
   ],
   "source": [
    "# a histogram to illustrate the sample selected\n",
    "    \n",
    "plt.figure(figsize=(8, 8))\n",
    "    \n",
    "plt.hist(z_tot, bins=70, edgecolor='black', linewidth=1.2, label=\"Full Sample\", color=\"grey\")\n",
    "plt.hist(red, bins=10, edgecolor='black', linewidth=1.2, label=\"Reduced Sample\", color=\"#fd8d3c\")\n",
    "    \n",
    "plt.ylabel(\"number of spectra\",fontsize=15)\n",
    "plt.xlabel(\"$z$\",fontsize=15)\n",
    "    \n",
    "plt.xlim(1.5, 3.5)\n",
    "\n",
    "plt.vlines(2.25, 0,90, color=\"#f03b20\", ls = \"--\")\n",
    "plt.vlines(2.75, 0,90, color=\"#f03b20\", ls = \"--\")\n",
    "    \n",
    "plt.legend(fontsize=12)\n",
    "plt.xticks(fontsize=12)\n",
    "plt.yticks(fontsize=12)\n",
    "plt.savefig(\"../figures/red_hist.pdf\")\n",
    "plt.show()"
   ]
  },
  {
   "cell_type": "markdown",
   "metadata": {},
   "source": [
    "## Sample cuts"
   ]
  },
  {
   "cell_type": "markdown",
   "metadata": {},
   "source": [
    "### Lyman Limit cut"
   ]
  },
  {
   "cell_type": "code",
   "execution_count": 9,
   "metadata": {},
   "outputs": [
    {
     "name": "stdout",
     "output_type": "stream",
     "text": [
      "Number of spectra provided = 416\n"
     ]
    }
   ],
   "source": [
    "print(\"Number of spectra provided =\", len(spec))\n",
    "\n",
    "r = range(len(spec))\n",
    "\n",
    "ll_meds = []\n",
    "ll_cut = []\n",
    "    \n",
    "for i in r:\n",
    "        \n",
    "    rest_wave = spec[i].wavelength / (1 + red[i]) # rest-frame\n",
    "                \n",
    "    sig = np.array(spec[i].sig[rest_wave < 912*u.AA])\n",
    "        \n",
    "    flux = np.array(spec[i].flux[rest_wave < 912*u.AA])\n",
    "    \n",
    "    try: #take the median\n",
    "        \n",
    "        ll_flux = np.sort(flux[sig > 0.0])\n",
    "        n = len(ll_flux)\n",
    "        \n",
    "        if n % 2 == 0: \n",
    "            med1 = ll_flux[n//2] \n",
    "            med2 = ll_flux[n//2 - 1] \n",
    "            median = (med1 + med2)/2\n",
    "        else:   \n",
    "            median = ll_flux[n//2] \n",
    "        \n",
    "        ll_meds.append(median)\n",
    "            \n",
    "        if (-.2 < median) & (median < .2):     \n",
    "            ll_cut.append(i)\n",
    "        \n",
    "    except IndexError:\n",
    "        ll_cut.append(i)"
   ]
  },
  {
   "cell_type": "code",
   "execution_count": 10,
   "metadata": {},
   "outputs": [],
   "source": [
    "ll_meds = np.asarray(ll_meds)\n",
    "ll_cut = np.asarray(ll_cut)"
   ]
  },
  {
   "cell_type": "code",
   "execution_count": 11,
   "metadata": {},
   "outputs": [
    {
     "data": {
      "image/png": "[encoded data removed]",
      "text/plain": [
       "<Figure size 576x576 with 1 Axes>"
      ]
     },
     "metadata": {
      "needs_background": "light"
     },
     "output_type": "display_data"
    }
   ],
   "source": [
    "plt.figure(figsize=(8,8))\n",
    "plt.hist(ll_meds[ll_meds < 1.5], bins=30, edgecolor=\"black\",\n",
    "         linewidth=1.2, label=\"Full Sample\", color=\"grey\")\n",
    "\n",
    "plt.hist(ll_meds[(-.2 < ll_meds) & (ll_meds < .2)], bins=6, edgecolor=\"black\",\n",
    "         linewidth=1.2, label=\"Reduced Sample\", color=\"#fd8d3c\")\n",
    "\n",
    "plt.vlines(-.2, 0,35, color=\"#f03b20\", ls = \"--\")\n",
    "plt.vlines(.2, 0,35, color=\"#f03b20\", ls = \"--\")\n",
    "\n",
    "\n",
    "plt.xlabel(\"median flux value past 912A\",fontsize=15)\n",
    "plt.ylabel(\"number of spectra\",fontsize=15)\n",
    "\n",
    "plt.legend(fontsize=12)\n",
    "plt.xticks(fontsize=12)\n",
    "plt.yticks(fontsize=12)\n",
    "plt.savefig(\"../figures/ll_hist.pdf\")\n",
    "plt.show()"
   ]
  },
  {
   "cell_type": "code",
   "execution_count": 12,
   "metadata": {},
   "outputs": [
    {
     "name": "stdout",
     "output_type": "stream",
     "text": [
      "Number of spectra left after the lyman-limit cut =  367\n"
     ]
    }
   ],
   "source": [
    "spec = spec[ll_cut]\n",
    "red = red[ll_cut]\n",
    "coord = coord[ll_cut]\n",
    "ID = ID[ll_cut]\n",
    "\n",
    "print(\"Number of spectra left after the lyman-limit cut = \", len(spec))"
   ]
  },
  {
   "cell_type": "markdown",
   "metadata": {},
   "source": [
    "### S/N cut"
   ]
  },
  {
   "cell_type": "code",
   "execution_count": 13,
   "metadata": {},
   "outputs": [
    {
     "name": "stdout",
     "output_type": "stream",
     "text": [
      "Number of spectra provided = 367\n"
     ]
    }
   ],
   "source": [
    "# now we exlcude any galaxies below the s2n\n",
    "print(\"Number of spectra provided =\", len(spec))\n",
    "\n",
    "r = range(len(spec))\n",
    "\n",
    "s2n = 1.5\n",
    "\n",
    "temp = [np.asarray(spec[i].wavelength / (1 + red[i])) for i in r]  # rest-frame\n",
    "\n",
    "good = [(1260 < entry) & (entry < 1304) for entry in temp] # masking to find a good region\n",
    "\n",
    "signal = np.asarray([spec[i].flux[good[i]] for i in r])\n",
    "\n",
    "noise = np.asarray([spec[i].sig[good[i]] for i in r])\n",
    "\n",
    "s2n_array = np.asarray([np.median(signal[i] / noise[i]) for i in r])\n",
    "\n",
    "s2n_cut = [i > s2n for i in s2n_array]"
   ]
  },
  {
   "cell_type": "code",
   "execution_count": 14,
   "metadata": {},
   "outputs": [
    {
     "data": {
      "image/png": "[encoded data removed]",
      "text/plain": [
       "<Figure size 720x720 with 1 Axes>"
      ]
     },
     "metadata": {
      "needs_background": "light"
     },
     "output_type": "display_data"
    }
   ],
   "source": [
    "#plot!\n",
    "    \n",
    "plt.figure(figsize=(10,10))\n",
    "    \n",
    "plt.scatter(red, s2n_array, label=\"Excluded spectra\", color=\"grey\")\n",
    "plt.scatter(red[s2n_cut], s2n_array[s2n_cut], label=\"Reduced sample\", color=\"#fd8d3c\")\n",
    "                \n",
    "plt.hlines(s2n,2.2, 2.8, linestyle=\"--\", color=\"#f03b20\",label=\"S/N cutoff\")\n",
    "plt.ylabel(\"median S/N value ($1260 - 1304\\AA$)\",fontsize=15)\n",
    "plt.xlabel(\"$z$\",fontsize=15)\n",
    "plt.ylim(0,9)\n",
    "    \n",
    "    \n",
    "plt.xlim(2.2, 2.8)\n",
    "plt.legend(fontsize=12)\n",
    "plt.xticks(fontsize=12)\n",
    "plt.yticks(fontsize=12)\n",
    "    \n",
    "plt.savefig(\"../figures/s2n_hist.pdf\")\n",
    "plt.show()"
   ]
  },
  {
   "cell_type": "code",
   "execution_count": 15,
   "metadata": {},
   "outputs": [
    {
     "name": "stdout",
     "output_type": "stream",
     "text": [
      "Number of spectra left after the S/N cut =  281\n"
     ]
    }
   ],
   "source": [
    "#cut!\n",
    "spec = spec[s2n_cut]\n",
    "red = red[s2n_cut]\n",
    "coord = coord[s2n_cut,:]\n",
    "ID = ID[s2n_cut]\n",
    "print(\"Number of spectra left after the S/N cut = \", len(spec))"
   ]
  },
  {
   "cell_type": "code",
   "execution_count": 16,
   "metadata": {},
   "outputs": [],
   "source": [
    "#ID = [i.strip(\"_F.fits\") for i in ID]"
   ]
  },
  {
   "cell_type": "code",
   "execution_count": 17,
   "metadata": {},
   "outputs": [],
   "source": [
    "#ID = [i.replace(\"_\", \"-\") for i in ID]"
   ]
  },
  {
   "cell_type": "code",
   "execution_count": 18,
   "metadata": {},
   "outputs": [],
   "source": [
    "#spec_info = Table([ID, coord[:,0], coord[:,1], red], names=(\"CLAMATO ID\", \"RA\", \"DEC\", \"z\"))\n",
    "\n",
    "#spec_info.write(\"../figures/clamato_gals.txt\", format=\"latex\", overwrite=\"True\")"
   ]
  }
 ],
 "metadata": {
  "kernelspec": {
   "display_name": "Python 3",
   "language": "python",
   "name": "python3"
  },
  "language_info": {
   "codemirror_mode": {
    "name": "ipython",
    "version": 3
   },
   "file_extension": ".py",
   "mimetype": "text/x-python",
   "name": "python",
   "nbconvert_exporter": "python",
   "pygments_lexer": "ipython3",
   "version": "3.7.4"
  }
 },
 "nbformat": 4,
 "nbformat_minor": 2
}
