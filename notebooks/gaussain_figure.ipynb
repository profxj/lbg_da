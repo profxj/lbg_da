{
 "cells": [
  {
   "cell_type": "code",
   "execution_count": 1,
   "metadata": {},
   "outputs": [],
   "source": [
    "import numpy as np\n",
    "import matplotlib.pyplot as plt\n",
    "from pkg_resources import resource_filename\n",
    "from sklearn.gaussian_process import GaussianProcessRegressor\n",
    "from sklearn.gaussian_process.kernels import RBF, ConstantKernel as C"
   ]
  },
  {
   "cell_type": "markdown",
   "metadata": {},
   "source": [
    "the published results"
   ]
  },
  {
   "cell_type": "code",
   "execution_count": 2,
   "metadata": {},
   "outputs": [],
   "source": [
    "#becker13 \n",
    "b13 = np.load('/Users/jsmonzon/lbg_da/data/tau_eff/literature/Becker_2013.npy')\n",
    "#schaye03\n",
    "s03 = np.load('/Users/jsmonzon/lbg_da/data/tau_eff/literature/Schaye_2003.npy')\n",
    "#kirkman05\n",
    "k05 = np.load('/Users/jsmonzon/lbg_da/data/tau_eff/literature/Kirkman_2005.npy')\n",
    "#thomas17\n",
    "t17 = np.load('/Users/jsmonzon/lbg_da/data/tau_eff/literature/Thomas_2017.npy')"
   ]
  },
  {
   "cell_type": "code",
   "execution_count": 3,
   "metadata": {},
   "outputs": [],
   "source": [
    "m20 = np.load('/Users/jsmonzon/lbg_da/data/tau_eff/tau_data.npy')\n",
    "#m20_cov = np.load('/Users/jsmonzon/lbg_da/data/tau_eff/covariance.npy')\n",
    "#m20_sig = np.sqrt(np.diagonal(m20_cov))"
   ]
  },
  {
   "cell_type": "code",
   "execution_count": 4,
   "metadata": {},
   "outputs": [],
   "source": [
    "#\n",
    "all_z = np.concatenate([s03[0,:], k05[0,:], b13[0,:], m20[0,:]])\n",
    "all_tau = np.concatenate([s03[1,:], k05[1,:], b13[1,:], m20[1,:]])\n",
    "all_sig = np.concatenate([s03[2,:], k05[2,:], b13[2,:], m20[2,:]])"
   ]
  },
  {
   "cell_type": "code",
   "execution_count": 5,
   "metadata": {},
   "outputs": [],
   "source": [
    "# Cut\n",
    "gdz = all_z < 4.0\n",
    "cut = gdz\n",
    "all_z = all_z[cut]\n",
    "all_tau = all_tau[cut]\n",
    "all_sig = all_sig[cut]"
   ]
  },
  {
   "cell_type": "code",
   "execution_count": 6,
   "metadata": {},
   "outputs": [
    {
     "data": {
      "text/plain": [
       "(158, 1)"
      ]
     },
     "execution_count": 6,
     "metadata": {},
     "output_type": "execute_result"
    }
   ],
   "source": [
    "X = np.atleast_2d(all_z).T\n",
    "X.shape"
   ]
  },
  {
   "cell_type": "code",
   "execution_count": 7,
   "metadata": {},
   "outputs": [],
   "source": [
    "# Remove the mean\n",
    "mean_tau = np.mean(all_tau)\n",
    "norm_tau = all_tau - mean_tau"
   ]
  },
  {
   "cell_type": "code",
   "execution_count": 8,
   "metadata": {},
   "outputs": [],
   "source": [
    "scale_z = 100.\n",
    "scale_tau = 100.\n",
    "#\n",
    "scale_z = 1.\n",
    "scale_tau = 1."
   ]
  },
  {
   "cell_type": "code",
   "execution_count": 9,
   "metadata": {},
   "outputs": [],
   "source": [
    "kernel = C(1.0, (1e-3, 1e3)) * RBF(0.1, (1e-2, 1e2))\n",
    "gp = GaussianProcessRegressor(kernel=kernel, n_restarts_optimizer=9,\n",
    "                             alpha=all_sig**2)"
   ]
  },
  {
   "cell_type": "code",
   "execution_count": 10,
   "metadata": {},
   "outputs": [
    {
     "data": {
      "text/plain": [
       "GaussianProcessRegressor(alpha=array([2.56000000e-04, 2.56000000e-04, 6.76000000e-04, 6.76000000e-04,\n",
       "       1.08900000e-03, 3.61000000e-04, 3.61000000e-04, 6.76000000e-04,\n",
       "       7.29000000e-04, 3.24000000e-04, 4.41000000e-04, 3.24000000e-04,\n",
       "       1.96000000e-04, 4.41000000e-04, 3.61000000e-04, 4.84000000e-04,\n",
       "       4.00000000e-04, 8.41000000e-04, 6.25000000e-04, 4.84000000e-04,\n",
       "       8.41000000e-...\n",
       "       3.38993215e-03, 3.15161774e-03, 2.00082183e-03, 3.43928434e-03,\n",
       "       2.93781023e-03, 2.59004123e-03, 1.68441746e-03, 3.02499627e-03,\n",
       "       1.30968866e-03, 1.47880498e-03, 1.41538765e-03, 1.60314285e-03,\n",
       "       1.85945011e-03, 1.59632595e-03, 2.18957322e-03, 1.66519988e-03,\n",
       "       1.83252039e-03, 3.18492846e-03]),\n",
       "                         copy_X_train=True, kernel=1**2 * RBF(length_scale=0.1),\n",
       "                         n_restarts_optimizer=9, normalize_y=False,\n",
       "                         optimizer='fmin_l_bfgs_b', random_state=None)"
      ]
     },
     "execution_count": 10,
     "metadata": {},
     "output_type": "execute_result"
    }
   ],
   "source": [
    "gp.fit(X*scale_z, norm_tau*scale_tau)"
   ]
  },
  {
   "cell_type": "code",
   "execution_count": 11,
   "metadata": {},
   "outputs": [],
   "source": [
    "#prediction\n",
    "x = np.atleast_2d(np.linspace(1.4, 4.1, 1000)).T\n",
    "y_pred, sigma = gp.predict(x*scale_z, return_std=True)"
   ]
  },
  {
   "cell_type": "code",
   "execution_count": 12,
   "metadata": {},
   "outputs": [],
   "source": [
    "# GP\n",
    "xv = x[:,0]\n",
    "\n",
    "# Fill between\n",
    "x2 = xv[::-1]\n",
    "xp = np.hstack((xv, x2))\n",
    "y2 = y_pred-sigma+mean_tau\n",
    "y2 = y2[::-1]\n",
    "yp = np.hstack((y_pred+sigma+mean_tau,y2))"
   ]
  },
  {
   "cell_type": "code",
   "execution_count": 22,
   "metadata": {},
   "outputs": [
    {
     "data": {
      "image/png": "[encoded data removed]",
      "text/plain": [
       "<Figure size 720x720 with 1 Axes>"
      ]
     },
     "metadata": {
      "needs_background": "light"
     },
     "output_type": "display_data"
    }
   ],
   "source": [
    "# Plot\n",
    "\n",
    "plt.figure(figsize=(10,10))\n",
    "\n",
    "#plt.errorbar(m20[0,:], m20[1,:], yerr=m20[2,:], fmt=\".\", label=\"This Work\",color=\"black\", capsize=3, alpha = .3)\n",
    "\n",
    "#plt.errorbar(k05[0,:], k05[1,:], yerr = k05[2,:],\n",
    "#             capsize=5,label=\"Kirkman et al. 2005\",\n",
    "#             ls=\"none\",color=\"red\", marker=\"d\")\n",
    "                 \n",
    "#plt.errorbar(s03[0,:], s03[1,:], yerr = s03[2,:],\n",
    "#             capsize=5,label=\"Shaye et al. 2003\",\n",
    "#             ls=\"none\",color=\"green\", marker=\"s\")  \n",
    "            \n",
    "\n",
    "#plt.errorbar(b13[0,:], b13[1,:], yerr = b13[2,:],\n",
    "#             capsize=5,label=\"Becker et al. 2013\",\n",
    "#             ls=\"none\",color=\"blue\", marker=\"^\")\n",
    "\n",
    "plt.plot(x[:,0], (y_pred+mean_tau)/scale_tau, color='#fd8d3c', label='GP model', ls=\"--\")\n",
    "plt.plot(xp, yp, color=\"#fd8d3c\")\n",
    "\n",
    "plt.scatter(2.12, .17, color=\"black\")\n",
    "plt.scatter(2.25, .18, color=\"black\")\n",
    "\n",
    "\n",
    "plt.legend(fontsize=12)\n",
    "plt.xticks(fontsize=12)\n",
    "plt.yticks(fontsize=12)\n",
    "plt.ylim(-.05, 1.0)\n",
    "plt.xlim(1.5, 4.0)\n",
    "plt.xlabel(\"$z$\",fontsize=15)\n",
    "plt.ylabel(\"$τ_{eff}$\",fontsize=15)\n",
    "#plt.savefig(\"/Users/jsmonzon/lbg_da/figures/tau_evo.pdf\")\n",
    "plt.show()"
   ]
  },
  {
   "cell_type": "code",
   "execution_count": null,
   "metadata": {},
   "outputs": [],
   "source": []
  }
 ],
 "metadata": {
  "kernelspec": {
   "display_name": "Python 3",
   "language": "python",
   "name": "python3"
  },
  "language_info": {
   "codemirror_mode": {
    "name": "ipython",
    "version": 3
   },
   "file_extension": ".py",
   "mimetype": "text/x-python",
   "name": "python",
   "nbconvert_exporter": "python",
   "pygments_lexer": "ipython3",
   "version": "3.7.4"
  }
 },
 "nbformat": 4,
 "nbformat_minor": 2
}
