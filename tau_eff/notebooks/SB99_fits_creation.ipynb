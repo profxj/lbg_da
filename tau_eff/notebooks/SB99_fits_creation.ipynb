{
 "cells": [
  {
   "cell_type": "code",
   "execution_count": 1,
   "metadata": {
    "collapsed": true
   },
   "outputs": [],
   "source": [
    "import numpy as np\n",
    "from astropy.io import fits\n",
    "from astropy.table import Table as Table\n",
    "import matplotlib.pyplot as plt\n",
    "from linetools.spectra import utils as ltsu\n",
    "from linetools.spectra.xspectrum1d import XSpectrum1D\n",
    "import astropy.units as u\n",
    "from astropy import constants as const"
   ]
  },
  {
   "cell_type": "markdown",
   "metadata": {},
   "source": [
    "# Read in\n"
   ]
  },
  {
   "cell_type": "code",
   "execution_count": 16,
   "metadata": {
    "collapsed": false
   },
   "outputs": [],
   "source": [
    "SB = fits.open(\"/home/jsm/PycharmProjects/tau_eff/SB99/Fitting/old/sample_spec.fits\") \n",
    "\n",
    "# to make sure I have the same fits format as this example spectrum\n",
    "\n",
    "stack = fits.open(\"/home/jsm/PycharmProjects/tau_eff/fits/composites/stack_75.fits\")\n",
    "\n",
    "#flux, sig, wave"
   ]
  },
  {
   "cell_type": "code",
   "execution_count": 17,
   "metadata": {
    "collapsed": false
   },
   "outputs": [],
   "source": [
    "plt.plot(stack[2].data,stack[0].data)\n",
    "plt.plot(stack[2].data,stack[1].data)\n",
    "plt.show()"
   ]
  },
  {
   "cell_type": "code",
   "execution_count": 18,
   "metadata": {
    "collapsed": false
   },
   "outputs": [],
   "source": [
    "mask = [1000 < i < 1500 for i in stack[2].data] # only the data I want 1000-1500A\n",
    "\n",
    "flux = stack[0].data[mask]\n",
    "\n",
    "sig = stack[1].data[mask]\n",
    "\n",
    "wave = stack[2].data[mask]"
   ]
  },
  {
   "cell_type": "markdown",
   "metadata": {},
   "source": [
    "# Fits creation"
   ]
  },
  {
   "cell_type": "code",
   "execution_count": 25,
   "metadata": {
    "collapsed": false
   },
   "outputs": [],
   "source": [
    "c_wave = fits.Column(name='WAVELENGTH', array=wave, unit=\"angstroms\", format=\"E\") \n",
    "\n",
    "c_flux = fits.Column(name='FLUX', array=flux, unit=\"relative flux\", format=\"E\")\n",
    "\n",
    "c_noise = fits.Column(name='NOISE', array=sig, unit=\"relative flux\", format=\"E\")\n",
    "\n",
    "t = fits.BinTableHDU.from_columns([c_wave, c_flux, c_noise])\n",
    "\n",
    "hdr = t.header\n",
    "\n",
    "hdr.set(\"REDSHIFT\", 2.484)"
   ]
  },
  {
   "cell_type": "markdown",
   "metadata": {},
   "source": [
    "# Write out"
   ]
  },
  {
   "cell_type": "code",
   "execution_count": 28,
   "metadata": {
    "collapsed": false
   },
   "outputs": [],
   "source": [
    "#hdul = fits.HDUList([prim_hdu,t_2, t_3])\n",
    "\n",
    "t.writeto(\"/home/jsm/PycharmProjects/tau_eff/SB99/Fitting/data/composite_75.fits\")"
   ]
  }
 ],
 "metadata": {
  "kernelspec": {
   "display_name": "Python 3",
   "language": "python",
   "name": "python3"
  },
  "language_info": {
   "codemirror_mode": {
    "name": "ipython",
    "version": 3
   },
   "file_extension": ".py",
   "mimetype": "text/x-python",
   "name": "python",
   "nbconvert_exporter": "python",
   "pygments_lexer": "ipython3",
   "version": "3.5.4"
  }
 },
 "nbformat": 4,
 "nbformat_minor": 0
}
