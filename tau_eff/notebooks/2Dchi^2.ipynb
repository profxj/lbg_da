{
 "cells": [
  {
   "cell_type": "code",
   "execution_count": 1,
   "metadata": {},
   "outputs": [],
   "source": [
    "import numpy as np\n",
    "from astropy.io import fits\n",
    "from astropy.table import Table as Table\n",
    "import matplotlib.pyplot as plt\n",
    "import numpy.random as ran\n",
    "import scipy.optimize as op\n",
    "import scipy.stats as stat\n",
    "import xstat\n",
    "%matplotlib inline"
   ]
  },
  {
   "cell_type": "code",
   "execution_count": 2,
   "metadata": {},
   "outputs": [],
   "source": [
    "data1 = fits.open(\"/home/jsm/PycharmProjects/tau_eff/fits/Tau_eff/tau_1.fits\")\n",
    "\n",
    "data2 = fits.open(\"/home/jsm/PycharmProjects/tau_eff/fits/Tau_eff/tau_2.fits\")\n",
    "\n",
    "z1 = data1[1].data[\"redshift\"]\n",
    "\n",
    "t1 = data1[1].data[\"tau\"]\n",
    "\n",
    "t_sig1 = data1[1].data[\"noise\"]\n",
    "\n",
    "z2 = data2[1].data[\"redshift\"]\n",
    "\n",
    "t2 = data2[1].data[\"tau\"]\n",
    "\n",
    "t_sig2 = data2[1].data[\"noise\"]"
   ]
  },
  {
   "cell_type": "code",
   "execution_count": 3,
   "metadata": {},
   "outputs": [],
   "source": [
    "z = np.append(z1, z2)\n",
    "\n",
    "t = np.append(t1, t2)\n",
    "\n",
    "t_sig = np.append(t_sig1, t_sig2)"
   ]
  },
  {
   "cell_type": "code",
   "execution_count": 4,
   "metadata": {
    "collapsed": true
   },
   "outputs": [],
   "source": [
    "zrange = np.linspace(1,4,100)\n",
    "\n",
    "def F_G(z):\n",
    "    \n",
    "    τ_eff = 0.0018*(1+z)**3.92\n",
    "    \n",
    "    return τ_eff"
   ]
  },
  {
   "cell_type": "code",
   "execution_count": 5,
   "metadata": {},
   "outputs": [
    {
     "data": {
      "text/plain": [
       "2.2361925"
      ]
     },
     "execution_count": 5,
     "metadata": {},
     "output_type": "execute_result"
    }
   ],
   "source": [
    "np.average(z)"
   ]
  },
  {
   "cell_type": "code",
   "execution_count": null,
   "metadata": {},
   "outputs": [],
   "source": [
    "#generate a 2D image in parameter space for the log of my function\n",
    "#for each pair of parameters (pixel in the image) take the chi^2 value\n",
    "#chose the parameter pair that minimizes the chi^2 value\n",
    "# χ2 = −2lnL\n",
    "# e^(-χ2/2)= L\n",
    "\n",
    "#power law function\n",
    "\n",
    "def Tau_ev(z,p0,p1):\n",
    "    \n",
    "    return p0*((1+z)/(1+2.23))**p1\n",
    "            #N                   M"
   ]
  },
  {
   "cell_type": "code",
   "execution_count": 7,
   "metadata": {
    "collapsed": true
   },
   "outputs": [],
   "source": [
    "def chisquare(data,model,sigma):\n",
    "    \n",
    "    num = (data-model)**2\n",
    "    \n",
    "    den = sigma**2\n",
    "    \n",
    "    return sum(num/den)\n",
    "\n",
    "ind = 1000\n",
    "\n",
    "N = np.linspace(0,5,ind)#scale\n",
    "\n",
    "M = np.linspace(1,5,ind)#power\n",
    "\n",
    "chisq = np.zeros((ind,ind))\n",
    "\n",
    "for i, N_i in enumerate(N):\n",
    "    \n",
    "    for j, M_j in enumerate(M):\n",
    "        \n",
    "        model = Tau_ev(z,N_i,M_j)\n",
    "    \n",
    "        chisq[i,j] = np.sum(chisquare(t,model,t_sig))"
   ]
  },
  {
   "cell_type": "code",
   "execution_count": 46,
   "metadata": {},
   "outputs": [
    {
     "data": {
      "image/png": "[encoded data removed]",
      "text/plain": [
       "<matplotlib.figure.Figure at 0x7f3563789780>"
      ]
     },
     "metadata": {},
     "output_type": "display_data"
    }
   ],
   "source": [
    "plt.figure(figsize=(10,10))\n",
    "\n",
    "plt.contourf(N,M, redchi, cmap=plt.cm.magma_r)\n",
    "#plt.imshow(redchi,cmap=plt.cm.plasma_r)\n",
    "\n",
    "plt.xlabel(\"Scale Parameter (A)\",fontsize=15)\n",
    "plt.ylabel(\"Power Parameter (B)\",fontsize=15)\n",
    "plt.xticks(fontsize=12)\n",
    "plt.yticks(fontsize=12)\n",
    "\n",
    "cb = plt.colorbar()\n",
    "cb.set_label(label=\"$\\chi^2$\",fontsize=15)\n",
    "\n",
    "plt.show()"
   ]
  },
  {
   "cell_type": "code",
   "execution_count": 50,
   "metadata": {},
   "outputs": [],
   "source": [
    "Nb, Mb = np.where(redchi==np.min(redchi))\n",
    "\n",
    "best_scale = float(N[Nb])\n",
    "\n",
    "best_power = float(M[Mb])"
   ]
  },
  {
   "cell_type": "code",
   "execution_count": 52,
   "metadata": {},
   "outputs": [
    {
     "name": "stdout",
     "output_type": "stream",
     "text": [
      "3.3223223223223224 0.16516516516516516 2.54771794585\n"
     ]
    }
   ],
   "source": [
    "print(best_power, best_scale, np.min(redchi))"
   ]
  },
  {
   "cell_type": "code",
   "execution_count": null,
   "metadata": {},
   "outputs": [],
   "source": [
    "plt.figure(figsize=(15,10))\n",
    "\n",
    "plt.errorbar(z,t,yerr=t_sig,label=\"data\",fmt='.')\n",
    "\n",
    "plt.plot(zrange,F_G(zrange), label = \"Faucher-Giguere et al. 2008\",color=\"grey\",ls=\"--\")\n",
    "\n",
    "plt.plot(zrange,Tau_ev(zrange,best_scale,best_power),label=\"fit\",color=\"red\")\n",
    "\n",
    "plt.legend(fontsize=12)\n",
    "plt.xticks(fontsize=12)\n",
    "plt.xlabel(\"yeet\",fontsize=13)\n",
    "#plt.xlim(1.5,3)\n",
    "plt.show()"
   ]
  },
  {
   "cell_type": "code",
   "execution_count": null,
   "metadata": {
    "collapsed": true
   },
   "outputs": [],
   "source": []
  }
 ],
 "metadata": {
  "kernelspec": {
   "display_name": "Python 3",
   "language": "python",
   "name": "python3"
  },
  "language_info": {
   "codemirror_mode": {
    "name": "ipython",
    "version": 3
   },
   "file_extension": ".py",
   "mimetype": "text/x-python",
   "name": "python",
   "nbconvert_exporter": "python",
   "pygments_lexer": "ipython3",
   "version": "3.7.3"
  }
 },
 "nbformat": 4,
 "nbformat_minor": 1
}
