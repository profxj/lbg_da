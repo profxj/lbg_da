{
 "cells": [
  {
   "cell_type": "code",
   "execution_count": 1,
   "metadata": {
    "collapsed": true
   },
   "outputs": [],
   "source": [
    "import numpy as np\n",
    "from astropy.io import fits\n",
    "from astropy.table import Table as Table\n",
    "import matplotlib.pyplot as plt\n",
    "from linetools.spectra import utils as ltsu\n",
    "from linetools.spectra.xspectrum1d import XSpectrum1D\n",
    "import astropy.units as u\n",
    "from astropy import constants as const\n",
    "from numpy import random as ran\n",
    "from __future__ import print_function\n",
    "from astropy.coordinates import SkyCoord\n",
    "from dustmaps.bayestar import BayestarQuery\n",
    "from astropy.cosmology import WMAP9 as cosmo\n",
    "import pdb\n",
    "%matplotlib inline"
   ]
  },
  {
   "cell_type": "code",
   "execution_count": 10,
   "metadata": {
    "collapsed": false
   },
   "outputs": [
    {
     "name": "stdout",
     "output_type": "stream",
     "text": [
      "whats good?/home/jsm/PycharmProjects/tau_eff/fits/comp_test/\n"
     ]
    }
   ],
   "source": [
    "yeet = input(\"whats good?\")"
   ]
  },
  {
   "cell_type": "code",
   "execution_count": 11,
   "metadata": {
    "collapsed": false
   },
   "outputs": [
    {
     "data": {
      "text/plain": [
       "'/home/jsm/PycharmProjects/tau_eff/fits/comp_test/'"
      ]
     },
     "execution_count": 11,
     "metadata": {},
     "output_type": "execute_result"
    }
   ],
   "source": [
    "yeet"
   ]
  },
  {
   "cell_type": "code",
   "execution_count": 2,
   "metadata": {
    "collapsed": true
   },
   "outputs": [],
   "source": [
    "z_bin = [2.0,2.5]\n",
    "\n",
    "path_16 = \"/home/jsm/PycharmProjects/tau_eff/Spectra/2016/\"\n",
    "\n",
    "path_17 = \"/home/jsm/PycharmProjects/tau_eff/Spectra/2017/\"\n",
    "\n",
    "\n",
    "spec_atr_16 = Table.read(path_16 + \"spec_atr.txt\", format = 'ascii')\n",
    "\n",
    "spec_atr_17 = Table.read(path_17 + \"spec_atr.txt\", format = 'ascii')\n"
   ]
  },
  {
   "cell_type": "code",
   "execution_count": 3,
   "metadata": {
    "collapsed": true
   },
   "outputs": [],
   "source": [
    "#read in\n",
    "\n",
    "spec_16 = []\n",
    "\n",
    "z_16 = []\n",
    "\n",
    "coord_16 = []\n",
    "\n",
    "for entry in spec_atr_16: # from the CLAMATO 2016 survey\n",
    "\n",
    "    if np.min(z_bin) < entry[\"zspec\"] < np.max(z_bin):  # creating the bin size\n",
    "\n",
    "        if entry[\"Conf\"] < 10.0:  # excluding any QSOs\n",
    "\n",
    "            temp = XSpectrum1D.from_file(path_16 + entry[\"Filename\"])\n",
    "\n",
    "            if temp.wvmin < (1216 * u.AA) * (1 + entry[\"zspec\"]) < temp.wvmax:\n",
    "                \n",
    "                coord_16.append([entry[\"RA\"],entry[\"Dec\"]]) #coordinates in deg\n",
    "\n",
    "                z_16.append(entry[\"zspec\"])\n",
    "\n",
    "                spec_16.append(XSpectrum1D.from_file(path_16 + entry[\"Filename\"]))"
   ]
  },
  {
   "cell_type": "code",
   "execution_count": 4,
   "metadata": {
    "collapsed": false
   },
   "outputs": [
    {
     "name": "stderr",
     "output_type": "stream",
     "text": [
      "/home/jsm/.pyenv/versions/anaconda3-2.4.1/lib/python3.5/site-packages/astropy/units/quantity.py:639: RuntimeWarning: invalid value encountered in greater\n",
      "  result = super().__array_ufunc__(function, method, *arrays, **kwargs)\n"
     ]
    }
   ],
   "source": [
    "spec_17 = []\n",
    "\n",
    "z_17 = []\n",
    "\n",
    "coord_17 = []\n",
    "\n",
    "for entry in spec_atr_17:\n",
    "\n",
    "    if np.min(z_bin) < entry[\"col5\"] < np.max(z_bin):\n",
    "\n",
    "        if entry[\"col4\"] < 10.0:\n",
    "\n",
    "            temp = XSpectrum1D.from_file(path_17 + entry[\"col1\"])\n",
    "\n",
    "            if temp.wvmin < (1120 * u.AA) * (1 + entry[\"col5\"]) < temp.wvmax:\n",
    "                \n",
    "                coord_17.append([entry[\"col7\"],entry[\"col8\"]]) #coordinates in deg\n",
    "\n",
    "                z_17.append(entry[\"col5\"])\n",
    "\n",
    "                spec_17.append(XSpectrum1D.from_file(path_17 + entry[\"col1\"]))"
   ]
  },
  {
   "cell_type": "code",
   "execution_count": 5,
   "metadata": {
    "collapsed": false
   },
   "outputs": [
    {
     "name": "stdout",
     "output_type": "stream",
     "text": [
      "Number of spectra (Nspec) in the redshift bin 265\n"
     ]
    }
   ],
   "source": [
    "#array creation\n",
    "\n",
    "spec = np.asarray(spec_16 + spec_17)\n",
    "\n",
    "print(\"Number of spectra (Nspec) in the redshift bin\", len(spec))\n",
    "\n",
    "red = np.asarray(z_16 + z_17)\n",
    "\n",
    "radec = np.asarray(coord_16 + coord_17)"
   ]
  },
  {
   "cell_type": "code",
   "execution_count": 20,
   "metadata": {
    "collapsed": false
   },
   "outputs": [
    {
     "data": {
      "text/latex": [
       "$[3512.5307,~3513.7109,~3514.8884,~\\dots, 6060.3314,~6061.5461,~6062.7606] \\; \\mathrm{\\mathring{A}}$"
      ],
      "text/plain": [
       "<Quantity [ 3512.53069546, 3513.71087562, 3514.88843051,...,\n",
       "            6060.33141333, 6061.54608196, 6062.76064843] Angstrom>"
      ]
     },
     "execution_count": 20,
     "metadata": {},
     "output_type": "execute_result"
    }
   ],
   "source": [
    "spec[12].wavelength\n",
    "    "
   ]
  },
  {
   "cell_type": "code",
   "execution_count": 6,
   "metadata": {
    "collapsed": false
   },
   "outputs": [],
   "source": [
    "import astropy.units as u\n",
    "from astropy.coordinates import SkyCoord\n",
    "from dustmaps.bayestar import BayestarQuery\n",
    "from astropy.cosmology import WMAP9 as cosmo\n",
    "\n",
    "Mpc = cosmo.comoving_distance(red)\n",
    "\n",
    "bayestar = BayestarQuery()\n",
    "\n",
    "coords = [SkyCoord(radec[i][0]*u.deg, radec[i][1]*u.deg, distance = Mpc[i], frame='fk5') for i in range(len(spec))]\n",
    "\n",
    "ebv = [bayestar(i) for i in coords]"
   ]
  },
  {
   "cell_type": "code",
   "execution_count": 15,
   "metadata": {
    "collapsed": false,
    "scrolled": true
   },
   "outputs": [],
   "source": [
    "flux = [ccm_unred(spec[i].wavelength,spec[i].flux,ebv=ebv[i]) for i in range(len(spec))]"
   ]
  },
  {
   "cell_type": "code",
   "execution_count": null,
   "metadata": {
    "collapsed": false
   },
   "outputs": [],
   "source": [
    "#the ccm_unred is breaking down because some of the spectra range inside of mid-UV and call on the \"ravel\" function\n",
    "#which for some reason is undefined. If i simply do not include the mid and far UV attenuation. \n",
    "#Ill be missing out on the bluest values of my spectra\n",
    "#maybe I do the s/n cut first?\n",
    "\n",
    "i = 1\n",
    "\n",
    "ccm_unred(spec[i].wavelength,spec[i].flux,ebv=ebv[i])"
   ]
  },
  {
   "cell_type": "code",
   "execution_count": 16,
   "metadata": {
    "collapsed": false
   },
   "outputs": [
    {
     "data": {
      "image/png": "[encoded data removed]",
      "text/plain": [
       "<matplotlib.figure.Figure at 0x7f4c446c5e48>"
      ]
     },
     "metadata": {},
     "output_type": "display_data"
    }
   ],
   "source": [
    "i=34\n",
    "\n",
    "plt.plot(spec[i].wavelength,flux[i])\n",
    "plt.show()"
   ]
  },
  {
   "cell_type": "code",
   "execution_count": 17,
   "metadata": {
    "collapsed": false
   },
   "outputs": [
    {
     "data": {
      "image/png": "[encoded data removed]",
      "text/plain": [
       "<matplotlib.figure.Figure at 0x7f4c44614f60>"
      ]
     },
     "metadata": {},
     "output_type": "display_data"
    }
   ],
   "source": [
    "i=34\n",
    "\n",
    "plt.plot(spec[i].wavelength,spec[i].flux)\n",
    "plt.show()"
   ]
  },
  {
   "cell_type": "code",
   "execution_count": null,
   "metadata": {
    "collapsed": true
   },
   "outputs": [],
   "source": []
  }
 ],
 "metadata": {
  "kernelspec": {
   "display_name": "Python 3",
   "language": "python",
   "name": "python3"
  },
  "language_info": {
   "codemirror_mode": {
    "name": "ipython",
    "version": 3
   },
   "file_extension": ".py",
   "mimetype": "text/x-python",
   "name": "python",
   "nbconvert_exporter": "python",
   "pygments_lexer": "ipython3",
   "version": "3.5.4"
  }
 },
 "nbformat": 4,
 "nbformat_minor": 0
}
