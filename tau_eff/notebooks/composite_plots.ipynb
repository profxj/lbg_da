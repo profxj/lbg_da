{
 "cells": [
  {
   "cell_type": "code",
   "execution_count": 1,
   "metadata": {
    "collapsed": false
   },
   "outputs": [
    {
     "name": "stdout",
     "output_type": "stream",
     "text": [
      "Using matplotlib backend: Qt5Agg\n"
     ]
    }
   ],
   "source": [
    "import numpy as np\n",
    "from astropy.io import fits\n",
    "from astropy.table import Table as Table\n",
    "import matplotlib.pyplot as plt\n",
    "from linetools.spectra import utils as ltsu\n",
    "from linetools.spectra.xspectrum1d import XSpectrum1D\n",
    "import astropy.units as u\n",
    "from astropy import constants as const\n",
    "from numpy import random as ran\n",
    "%matplotlib "
   ]
  },
  {
   "cell_type": "code",
   "execution_count": 2,
   "metadata": {
    "collapsed": true
   },
   "outputs": [],
   "source": [
    "stack1 = fits.open(\"/home/jsm/PycharmProjects/tau_eff/fits/composites/stack_1.fits\")\n",
    "\n",
    "model1 = fits.open(\"/home/jsm/PycharmProjects/tau_eff/SB99/Fitting/data/thesis/model_1.fits\")\n",
    "\n",
    "stack2 = fits.open(\"/home/jsm/PycharmProjects/tau_eff/fits/composites/stack_2.fits\")\n",
    "\n",
    "model2 = fits.open(\"/home/jsm/PycharmProjects/tau_eff/SB99/Fitting/data/thesis/model_2.fits\")"
   ]
  },
  {
   "cell_type": "code",
   "execution_count": 24,
   "metadata": {
    "collapsed": true
   },
   "outputs": [],
   "source": [
    "fig, ax = plt.subplots(figsize=(10, 10))\n",
    "\n",
    "plt.subplot(2,1,1)\n",
    "\n",
    "#interstellar absorption features\n",
    "plt.text(1260.42,.25,\"$SiII$\",fontsize=12,color=\"#fd8d3c\")\n",
    "plt.text(1303.1685,.25,\"$SiII$\",fontsize=12,color=\"#fd8d3c\")\n",
    "plt.text(1334.5323,.25,\"$CII$\",fontsize=12,color=\"#fd8d3c\")\n",
    "plt.text(1390,.25,\"$SiIV$ doublet\",fontsize=12,color=\"#fd8d3c\")\n",
    "plt.text(1176,.25,\"$CIII$\",fontsize=12,color=\"#fd8d3c\")\n",
    "\n",
    "#stellar absorption features\n",
    "plt.text(1141,.25,\"$NI$\",fontsize=12,color=\"#fd8d3c\")\n",
    "\n",
    "#emission features\n",
    "plt.text(1221,2.0,\"$Lyα$\",fontsize=12,color=\"#fd8d3c\")\n",
    "\n",
    "#plot\n",
    "plt.plot(stack1[1].data[\"wavelength\"],stack1[1].data[\"flux\"],label=\"$z_{low}$ Composite Spectrum\",color=\"grey\")\n",
    "plt.plot(stack1[1].data[\"wavelength\"],stack1[1].data[\"noise\"], label = \"Bootstrap Genereted Error\",color=\"black\")\n",
    "\n",
    "#zero line\n",
    "plt.hlines(0,1000,1500, color=\"#fd8d3c\",linestyle=\"--\")\n",
    "\n",
    "#axis labels\n",
    "plt.ylabel(\"Relative flux\",fontsize=15)\n",
    "\n",
    "#misc\n",
    "plt.legend(fontsize=12)\n",
    "plt.xticks(fontsize=12)\n",
    "plt.yticks(fontsize=12)\n",
    "plt.xlim(1000,1500)\n",
    "\n",
    "#--------------------------------------------------------------------------\n",
    "plt.subplot(2,1,2)\n",
    "\n",
    "#interstellar absorption features\n",
    "plt.text(1260.42,.25,\"$SiII$\",fontsize=12,color=\"#fd8d3c\")\n",
    "plt.text(1303.1685,.25,\"$SiII$\",fontsize=12,color=\"#fd8d3c\")\n",
    "plt.text(1334.5323,.25,\"$CII$\",fontsize=12,color=\"#fd8d3c\")\n",
    "plt.text(1176,.25,\"$CIII$\",fontsize=12,color=\"#fd8d3c\")\n",
    "\n",
    "#stellar absorption features\n",
    "plt.text(1083,.25,\"$NII$\",fontsize=12,color=\"#fd8d3c\")\n",
    "\n",
    "#emission features\n",
    "plt.text(1221,2.0,\"$Lyα$\",fontsize=12,color=\"#fd8d3c\")\n",
    "\n",
    "#plot\n",
    "plt.plot(stack2[1].data[\"wavelength\"],stack2[1].data[\"flux\"],label=\"$z_{high}$ Composite Spectrum\",color=\"grey\")\n",
    "plt.plot(stack2[1].data[\"wavelength\"],stack2[1].data[\"noise\"], label = \"Bootstrap Generated Error\",color=\"black\")\n",
    "\n",
    "#zero\n",
    "plt.hlines(0,1000,1400, color=\"#fd8d3c\",linestyle=\"--\")\n",
    "\n",
    "#axis\n",
    "plt.xlabel(\"$\\lambda_{rest} (\\AA)$\",fontsize=15)\n",
    "plt.ylabel(\"Relative flux\",fontsize=15)\n",
    "\n",
    "#misc\n",
    "plt.legend(fontsize=12)\n",
    "plt.xticks(fontsize=12)\n",
    "plt.yticks(fontsize=12)\n",
    "plt.xlim(1000,1400)\n",
    "\n",
    "plt.show()"
   ]
  },
  {
   "cell_type": "code",
   "execution_count": 28,
   "metadata": {
    "collapsed": true
   },
   "outputs": [],
   "source": [
    "fig, ax = plt.subplots(figsize=(10, 10))\n",
    "\n",
    "plt.subplot(2,1,1)\n",
    "\n",
    "#plot\n",
    "plt.fill_between(stack1[1].data[\"wavelength\"], np.min(stack1[1].data[\"flux\"]),\n",
    "                 stack1[1].data[\"flux\"], facecolor='grey',label=\"$z_{low}$ Composite Spectrum\")\n",
    "\n",
    "plt.fill_between(stack1[1].data[\"wavelength\"], np.min(stack1[1].data[\"noise\"]),\n",
    "                 stack1[1].data[\"noise\"], facecolor='black',label = \"Bootstrap Generated Error\")\n",
    "\n",
    "plt.plot(stack1[1].data[\"wavelength\"],model1[0].data, label = \"Extrapolated SED\",color=\"#fd8d3c\")\n",
    "\n",
    "#zero line\n",
    "plt.hlines(0,1000,1500, color=\"#fd8d3c\",linestyle=\"--\")\n",
    "\n",
    "#axis labels\n",
    "plt.xlabel(\"$\\lambda_{rest} (\\AA)$\",fontsize=15)\n",
    "plt.ylabel(\"Relative flux\",fontsize=15)\n",
    "\n",
    "#misc\n",
    "plt.legend(fontsize=12)\n",
    "plt.xticks(fontsize=12)\n",
    "plt.yticks(fontsize=12)\n",
    "plt.xlim(1000,1500)\n",
    "\n",
    "#--------------------------------------------------------------------------\n",
    "plt.subplot(2,1,2)\n",
    "\n",
    "#plot\n",
    "plt.fill_between(stack2[1].data[\"wavelength\"], np.min(stack2[1].data[\"flux\"]),\n",
    "                 stack2[1].data[\"flux\"], facecolor='grey',label=\"$z_{high}$ Composite Spectrum\")\n",
    "\n",
    "plt.fill_between(stack2[1].data[\"wavelength\"], np.min(stack2[1].data[\"noise\"]),\n",
    "                 stack2[1].data[\"noise\"], facecolor='black',label = \"Bootstrap Generated Error\")\n",
    "\n",
    "plt.plot(stack2[1].data[\"wavelength\"],model2[0].data, label = \"Extrapolated SED\",color=\"#f03b20\")\n",
    "\n",
    "#zero\n",
    "plt.hlines(0,1000,1400, color=\"#fd8d3c\",linestyle=\"--\")\n",
    "\n",
    "#axis\n",
    "plt.xlabel(\"$\\lambda_{rest} (\\AA)$\",fontsize=15)\n",
    "plt.ylabel(\"Relative flux\",fontsize=15)\n",
    "\n",
    "#misc\n",
    "plt.legend(fontsize=12)\n",
    "plt.xticks(fontsize=12)\n",
    "plt.yticks(fontsize=12)\n",
    "plt.xlim(1000,1400)\n",
    "\n",
    "plt.show()"
   ]
  },
  {
   "cell_type": "code",
   "execution_count": null,
   "metadata": {
    "collapsed": true
   },
   "outputs": [],
   "source": []
  }
 ],
 "metadata": {
  "kernelspec": {
   "display_name": "Python 3",
   "language": "python",
   "name": "python3"
  },
  "language_info": {
   "codemirror_mode": {
    "name": "ipython",
    "version": 3
   },
   "file_extension": ".py",
   "mimetype": "text/x-python",
   "name": "python",
   "nbconvert_exporter": "python",
   "pygments_lexer": "ipython3",
   "version": "3.5.4"
  }
 },
 "nbformat": 4,
 "nbformat_minor": 0
}
