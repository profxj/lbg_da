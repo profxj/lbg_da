{
 "cells": [
  {
   "cell_type": "code",
   "execution_count": 19,
   "metadata": {},
   "outputs": [],
   "source": [
    "from astropy.io import fits"
   ]
  },
  {
   "cell_type": "code",
   "execution_count": 20,
   "metadata": {},
   "outputs": [],
   "source": [
    "low_z = fits.open(\"/Users/jsmonzon/Desktop/MPFIT/low_z_param.fits\")\n",
    "\n",
    "high_z = fits.open(\"/Users/jsmonzon/Desktop/MPFIT/high_z_param.fits\")"
   ]
  },
  {
   "cell_type": "code",
   "execution_count": 21,
   "metadata": {},
   "outputs": [],
   "source": [
    "low_light = low_z[1].data[\"light_frac\"][0]\n",
    "\n",
    "low_light_err = low_z[1].data[\"light_frac_err\"][0]\n",
    "\n",
    "low_age = low_z[1].data[\"model_age\"][0]\n",
    "\n",
    "low_met = low_z[1].data[\"model_z\"][0]\n",
    "\n",
    "low_ebv = low_z[1].data[\"ebv\"]\n",
    "\n",
    "low_ebv_err = low_z[1].data[\"ebv_err\"]"
   ]
  },
  {
   "cell_type": "code",
   "execution_count": 22,
   "metadata": {},
   "outputs": [],
   "source": [
    "high_light = high_z[1].data[\"light_frac\"][0]\n",
    "\n",
    "high_light_err = high_z[1].data[\"light_frac_err\"][0]\n",
    "\n",
    "high_age = high_z[1].data[\"model_age\"][0]\n",
    "\n",
    "high_met = high_z[1].data[\"model_z\"][0]\n",
    "\n",
    "high_ebv = high_z[1].data[\"ebv\"]\n",
    "\n",
    "high_ebv_err = high_z[1].data[\"ebv_err\"]"
   ]
  },
  {
   "cell_type": "code",
   "execution_count": 47,
   "metadata": {},
   "outputs": [],
   "source": [
    "low_mask = [entry != 0.0 for entry in low_light]"
   ]
  },
  {
   "cell_type": "code",
   "execution_count": 58,
   "metadata": {},
   "outputs": [
    {
     "name": "stdout",
     "output_type": "stream",
     "text": [
      "[ 1000000.  4000000.  8000000. 40000000.  3000000.]\n",
      "[0.05 0.05 0.05 0.05 2.  ]\n",
      "[3.4079163 3.5158484 2.6102607 1.6844236 1.7415829]\n",
      "[1.2409273 1.4345256 2.7219973 1.6819621 0.6473283]\n"
     ]
    }
   ],
   "source": [
    "print(low_age[low_mask])\n",
    "\n",
    "print(low_met[low_mask])\n",
    "\n",
    "print(low_light[low_mask])\n",
    "\n",
    "print(low_light_err[low_mask])"
   ]
  },
  {
   "cell_type": "code",
   "execution_count": 51,
   "metadata": {},
   "outputs": [],
   "source": [
    "high_mask = [entry != 0.0 for entry in high_light]"
   ]
  },
  {
   "cell_type": "code",
   "execution_count": 59,
   "metadata": {},
   "outputs": [
    {
     "name": "stdout",
     "output_type": "stream",
     "text": [
      "[ 1000000.  8000000. 10000000.  2000000.  1000000.  3000000.]\n",
      "[0.05 0.05 0.05 1.   2.   2.  ]\n",
      "[0.02768463 1.0488831  1.6936718  0.11784749 0.1518983  0.18273647]\n",
      "[0.4227325  5.8358126  6.0157404  0.26443392 0.18205327 0.18191321]\n"
     ]
    }
   ],
   "source": [
    "print(high_age[high_mask])\n",
    "\n",
    "print(high_met[high_mask])\n",
    "\n",
    "print(high_light[high_mask])\n",
    "\n",
    "print(high_light_err[high_mask])"
   ]
  },
  {
   "cell_type": "code",
   "execution_count": 45,
   "metadata": {},
   "outputs": [
    {
     "data": {
      "text/plain": [
       "array([ 1000000.,  2000000.,  3000000.,  4000000.,  5000000.,  8000000.,\n",
       "       10000000., 15000000., 20000000., 40000000.,  1000000.,  2000000.,\n",
       "        3000000.,  4000000.,  5000000.,  8000000., 10000000., 15000000.,\n",
       "       20000000., 40000000.,  1000000.,  2000000.,  3000000.,  4000000.,\n",
       "        5000000.,  8000000., 10000000., 15000000., 20000000., 40000000.,\n",
       "        1000000.,  2000000.,  3000000.,  4000000.,  5000000.,  8000000.,\n",
       "       10000000., 15000000., 20000000., 40000000.,  1000000.,  2000000.,\n",
       "        3000000.,  4000000.,  5000000.,  8000000., 10000000., 15000000.,\n",
       "       20000000., 40000000.], dtype=float32)"
      ]
     },
     "execution_count": 45,
     "metadata": {},
     "output_type": "execute_result"
    }
   ],
   "source": [
    "high_age"
   ]
  },
  {
   "cell_type": "code",
   "execution_count": 46,
   "metadata": {},
   "outputs": [
    {
     "data": {
      "text/plain": [
       "array([0.05, 0.05, 0.05, 0.05, 0.05, 0.05, 0.05, 0.05, 0.05, 0.05, 0.2 ,\n",
       "       0.2 , 0.2 , 0.2 , 0.2 , 0.2 , 0.2 , 0.2 , 0.2 , 0.2 , 0.4 , 0.4 ,\n",
       "       0.4 , 0.4 , 0.4 , 0.4 , 0.4 , 0.4 , 0.4 , 0.4 , 1.  , 1.  , 1.  ,\n",
       "       1.  , 1.  , 1.  , 1.  , 1.  , 1.  , 1.  , 2.  , 2.  , 2.  , 2.  ,\n",
       "       2.  , 2.  , 2.  , 2.  , 2.  , 2.  ], dtype=float32)"
      ]
     },
     "execution_count": 46,
     "metadata": {},
     "output_type": "execute_result"
    }
   ],
   "source": [
    "high_met"
   ]
  },
  {
   "cell_type": "code",
   "execution_count": null,
   "metadata": {},
   "outputs": [],
   "source": []
  }
 ],
 "metadata": {
  "kernelspec": {
   "display_name": "Python 3",
   "language": "python",
   "name": "python3"
  },
  "language_info": {
   "codemirror_mode": {
    "name": "ipython",
    "version": 3
   },
   "file_extension": ".py",
   "mimetype": "text/x-python",
   "name": "python",
   "nbconvert_exporter": "python",
   "pygments_lexer": "ipython3",
   "version": "3.7.3"
  }
 },
 "nbformat": 4,
 "nbformat_minor": 2
}
