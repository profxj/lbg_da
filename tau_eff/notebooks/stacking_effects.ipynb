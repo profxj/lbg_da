{
 "cells": [
  {
   "cell_type": "code",
   "execution_count": 1,
   "metadata": {
    "collapsed": false
   },
   "outputs": [
    {
     "name": "stdout",
     "output_type": "stream",
     "text": [
      "Using matplotlib backend: Qt5Agg\n"
     ]
    }
   ],
   "source": [
    "import numpy as np\n",
    "from astropy.io import fits\n",
    "from astropy.table import Table as Table\n",
    "import matplotlib.pyplot as plt\n",
    "from linetools.spectra import utils as ltsu\n",
    "from linetools.spectra.xspectrum1d import XSpectrum1D\n",
    "import astropy.units as u\n",
    "from astropy import constants as const\n",
    "from numpy import random as ran\n",
    "%matplotlib "
   ]
  },
  {
   "cell_type": "markdown",
   "metadata": {},
   "source": [
    "# the same routine as stack.py"
   ]
  },
  {
   "cell_type": "code",
   "execution_count": 2,
   "metadata": {
    "collapsed": false
   },
   "outputs": [],
   "source": [
    "#the 2016 survey\n",
    "\n",
    "#to order and match the spec with their z values\n",
    "spec_atr_16 = Table.read('/home/jsm/PycharmProjects/tau_eff/Spectra/2016/spec_atr.txt', format = 'ascii') \n",
    "\n",
    "#an initial filter to ensure the spec included cover lya\n",
    "basestring_16 = '/home/jsm/PycharmProjects/tau_eff/Spectra/2016/'\n",
    "\n",
    "init_spec_16 = []\n",
    "\n",
    "init_z_16 = []\n",
    "    \n",
    "for entry in spec_atr_16:\n",
    "    \n",
    "    if 2.25 < entry[\"zspec\"] < 2.5: #the redshift bin\n",
    "        \n",
    "        if entry[\"Conf\"] < 10.0:  # excluding any QSOs\n",
    "        \n",
    "            temp = XSpectrum1D.from_file(basestring_16 + entry[\"Filename\"])\n",
    "        \n",
    "            if temp.wvmin < (1216*u.AA)*(1+entry[\"zspec\"]) < temp.wvmax:\n",
    "                \n",
    "                init_z_16.append(entry[\"zspec\"])\n",
    "                \n",
    "                init_spec_16.append(XSpectrum1D.from_file(basestring_16 + entry[\"Filename\"]))"
   ]
  },
  {
   "cell_type": "code",
   "execution_count": 3,
   "metadata": {
    "collapsed": false
   },
   "outputs": [
    {
     "name": "stderr",
     "output_type": "stream",
     "text": [
      "/home/jsm/.pyenv/versions/anaconda3-2.4.1/lib/python3.5/site-packages/astropy/units/quantity.py:639: RuntimeWarning: invalid value encountered in greater\n",
      "  result = super().__array_ufunc__(function, method, *arrays, **kwargs)\n"
     ]
    }
   ],
   "source": [
    "#the 2017 survey\n",
    "\n",
    "#to order and match the spec with their z values\n",
    "spec_atr_17 = Table.read('/home/jsm/PycharmProjects/tau_eff/Spectra/2017/spec_atr.txt',\n",
    "                         format = 'ascii') \n",
    "\n",
    "#an initial filter to ensure the spec included cover lya\n",
    "basestring_17 = '/home/jsm/PycharmProjects/tau_eff/Spectra/2017/'\n",
    "\n",
    "init_spec_17 = []\n",
    "\n",
    "init_z_17 = []\n",
    "    \n",
    "for entry in spec_atr_17:\n",
    "    \n",
    "    if 2.25 < entry[\"col5\"] < 2.5: #the redshift bin\n",
    "        \n",
    "        if entry[\"col4\"] < 10.0:\n",
    "\n",
    "            temp = XSpectrum1D.from_file(basestring_17 + entry[\"col1\"])\n",
    "        \n",
    "            if temp.wvmin < (1216*u.AA)*(1+entry[\"col5\"]) < temp.wvmax:\n",
    "                \n",
    "                init_z_17.append(entry[\"col5\"])\n",
    "                \n",
    "                init_spec_17.append(XSpectrum1D.from_file(basestring_17 + entry[\"col1\"]))"
   ]
  },
  {
   "cell_type": "code",
   "execution_count": 4,
   "metadata": {
    "collapsed": false
   },
   "outputs": [
    {
     "name": "stdout",
     "output_type": "stream",
     "text": [
      "Number of spectra (Nspec) after filter = 214\n"
     ]
    }
   ],
   "source": [
    "spec = np.asarray(init_spec_16 + init_spec_17)\n",
    "\n",
    "print(\"Number of spectra (Nspec) after filter =\", len(spec))\n",
    "\n",
    "red = np.asarray(init_z_16 + init_z_17)"
   ]
  },
  {
   "cell_type": "code",
   "execution_count": 6,
   "metadata": {
    "collapsed": false
   },
   "outputs": [],
   "source": [
    "r = range(len(spec))\n",
    "\n",
    "s2n = 2.5\n",
    "\n",
    "temp = [np.asarray(spec[i].wavelength / (1 + red[i])) for i in r]  # rest-frame\n",
    "\n",
    "norm = [(1260 < entry) & (entry < 1304) for entry in temp]\n",
    "\n",
    "signal = np.asarray([spec[i].flux[norm[i]] for i in r])\n",
    "\n",
    "noise = np.asarray([spec[i].sig[norm[i]] for i in r])\n",
    "\n",
    "s2n_array = np.asarray([np.median(signal[i] / noise[i]) for i in r])\n",
    "\n",
    "s2n_cut = [i > s2n for i in s2n_array]\n",
    "\n",
    "spec = spec[s2n_cut]\n",
    "\n",
    "red = red[s2n_cut]\n",
    "\n",
    "z = np.median(red)"
   ]
  },
  {
   "cell_type": "code",
   "execution_count": 7,
   "metadata": {
    "collapsed": false
   },
   "outputs": [
    {
     "name": "stderr",
     "output_type": "stream",
     "text": [
      "/home/jsm/.pyenv/versions/anaconda3-2.4.1/lib/python3.5/site-packages/linetools-0.3.dev2065-py3.5.egg/linetools/spectra/xspectrum1d.py:254: UserWarning: No unit given to wavelength, assuming Angstroms.\n",
      "  warnings.warn(\"No unit given to wavelength, assuming Angstroms.\")\n"
     ]
    }
   ],
   "source": [
    "r = range(len(spec))\n",
    "\n",
    "temp = [np.asarray(spec[i].wavelength / (1 + red[i])) for i in r]\n",
    "\n",
    "wv_norm = [(1260 < entry) & (entry < 1304) for entry in temp]  # just between the SiII lines.\n",
    "\n",
    "flux_range = np.asarray([spec[i].flux[wv_norm[i]] for i in r])\n",
    "\n",
    "medians = np.asarray([np.median(flux_range[i]) for i in r])\n",
    "\n",
    "norm_flux = np.asarray([(spec[i].flux / medians[i]) for i in r])\n",
    "\n",
    "norm_spec = [XSpectrum1D(spec[i].wavelength, norm_flux[i], spec[i].sig) for i in r]  # the normalized spec array\n",
    "\n",
    "    # truncating each spectra to only include wavelength values from 950A to 1500A"
   ]
  },
  {
   "cell_type": "code",
   "execution_count": 8,
   "metadata": {
    "collapsed": false
   },
   "outputs": [
    {
     "name": "stderr",
     "output_type": "stream",
     "text": [
      "/home/jsm/.pyenv/versions/anaconda3-2.4.1/lib/python3.5/site-packages/linetools-0.3.dev2065-py3.5.egg/linetools/spectra/xspectrum1d.py:254: UserWarning: No unit given to wavelength, assuming Angstroms.\n",
      "  warnings.warn(\"No unit given to wavelength, assuming Angstroms.\")\n"
     ]
    }
   ],
   "source": [
    "r = range(len(norm_spec))\n",
    "\n",
    "temp = np.array([norm_spec[i].wavelength / (1 + red[i]) for i in r])\n",
    "\n",
    "trim = []\n",
    "\n",
    "for i in r:\n",
    "    trim.append([950 * u.AA <= temp[i][j] <= 1500 * u.AA for j in range(len(temp[i]))])\n",
    "        # to include only enough to extrapolate from\n",
    "\n",
    "t_spec = []\n",
    "\n",
    "for i in r:\n",
    "    t_spec.append(XSpectrum1D(norm_spec[i].wavelength[trim[i]][0:935],\n",
    "                              norm_spec[i].flux[trim[i]][0:935],\n",
    "                              norm_spec[i].flux[trim[i]][0:935]))"
   ]
  },
  {
   "cell_type": "code",
   "execution_count": 9,
   "metadata": {
    "collapsed": false
   },
   "outputs": [
    {
     "name": "stdout",
     "output_type": "stream",
     "text": [
      "deleting these spectra [44, 70]\n",
      "Number of spectra to be stacked = 92\n"
     ]
    }
   ],
   "source": [
    "collate = ltsu.collate(t_spec)  # to get a single XSpec object\n",
    "\n",
    "fix = []  # to make sure none of the values included will mess up the stack\n",
    "\n",
    "a = collate.data['wave']\n",
    "\n",
    "for i in range(collate.nspec):\n",
    "\n",
    "    if np.min(a[i]) == 0.0:\n",
    "        fix.append(i)\n",
    "\n",
    "if len(fix) > 0:\n",
    "\n",
    "    print(\"deleting these spectra\", fix)\n",
    "\n",
    "    good_spec = np.delete(t_spec,fix) # exclude all spec[fix]\n",
    "\n",
    "    red = np.delete(red,fix)\n",
    "    \n",
    "print(\"Number of spectra to be stacked =\", collate.nspec)\n",
    "\n",
    "collate = ltsu.collate(good_spec)\n"
   ]
  },
  {
   "cell_type": "code",
   "execution_count": 13,
   "metadata": {
    "collapsed": true
   },
   "outputs": [],
   "source": [
    "rest_spec = ltsu.rebin_to_rest(collate, red, 300 * u.km / u.s, grow_bad_sig=True)"
   ]
  },
  {
   "cell_type": "code",
   "execution_count": 11,
   "metadata": {
    "collapsed": false
   },
   "outputs": [],
   "source": [
    "stack = ltsu.smash_spectra(rest_spec)\n",
    "\n",
    "stack.plot()"
   ]
  },
  {
   "cell_type": "markdown",
   "metadata": {},
   "source": [
    "# Example Spec"
   ]
  },
  {
   "cell_type": "code",
   "execution_count": 26,
   "metadata": {
    "collapsed": false
   },
   "outputs": [],
   "source": [
    "plt.figure(figsize=(10, 5))\n",
    "\n",
    "plt.plot(spec[43].wavelength,spec[43].flux,color=\"black\",label=\"LBG (z~2.45) \")\n",
    "plt.plot(spec[43].wavelength,spec[43].sig, color=\"grey\",label=\"Flux Error\")\n",
    "\n",
    "plt.hlines(0,3500,5000, color=\"#fd8d3c\",linestyle=\"--\")\n",
    "\n",
    "plt.text(4215,.25,\"$Lyα$\",fontsize=12,color=\"#fd8d3c\")\n",
    "\n",
    "plt.xlabel(\"$\\lambda_{obs}$\",fontsize=15)\n",
    "plt.ylabel(\"Relative flux\",fontsize=15)\n",
    "\n",
    "plt.legend(fontsize=12)\n",
    "plt.xticks(fontsize=12)\n",
    "plt.yticks(fontsize=12)\n",
    "\n",
    "plt.xlim(3500,5000)\n",
    "plt.ylim(-.05,.45)\n",
    "plt.show()"
   ]
  },
  {
   "cell_type": "code",
   "execution_count": 20,
   "metadata": {
    "collapsed": false
   },
   "outputs": [],
   "source": [
    "plt.fill_between?"
   ]
  },
  {
   "cell_type": "code",
   "execution_count": null,
   "metadata": {
    "collapsed": true
   },
   "outputs": [],
   "source": []
  }
 ],
 "metadata": {
  "kernelspec": {
   "display_name": "Python 3",
   "language": "python",
   "name": "python3"
  },
  "language_info": {
   "codemirror_mode": {
    "name": "ipython",
    "version": 3
   },
   "file_extension": ".py",
   "mimetype": "text/x-python",
   "name": "python",
   "nbconvert_exporter": "python",
   "pygments_lexer": "ipython3",
   "version": "3.5.4"
  }
 },
 "nbformat": 4,
 "nbformat_minor": 0
}
