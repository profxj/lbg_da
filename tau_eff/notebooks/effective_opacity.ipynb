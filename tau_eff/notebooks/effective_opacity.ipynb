{
 "cells": [
  {
   "cell_type": "code",
   "execution_count": 1,
   "metadata": {
    "collapsed": false
   },
   "outputs": [
    {
     "name": "stdout",
     "output_type": "stream",
     "text": [
      "Using matplotlib backend: Qt5Agg\n"
     ]
    }
   ],
   "source": [
    "import numpy as np\n",
    "from astropy.io import fits\n",
    "from astropy.table import Table as Table\n",
    "from astropy.io import ascii\n",
    "import matplotlib.pyplot as plt\n",
    "from linetools.spectra import utils as ltsu\n",
    "from linetools.spectra.xspectrum1d import XSpectrum1D\n",
    "import astropy.units as u\n",
    "from astropy import constants as const\n",
    "from numpy import random as ran\n",
    "import tau_eff\n",
    "%matplotlib"
   ]
  },
  {
   "cell_type": "code",
   "execution_count": 2,
   "metadata": {
    "collapsed": true
   },
   "outputs": [],
   "source": [
    "stack1 = fits.open(\"/home/jsm/PycharmProjects/tau_eff/fits/composites/stack_1.fits\")\n",
    "\n",
    "model1 = fits.open(\"/home/jsm/PycharmProjects/tau_eff/SB99/Fitting/data/thesis/model_1.fits\")\n",
    "\n",
    "stack2 = fits.open(\"/home/jsm/PycharmProjects/tau_eff/fits/composites/stack_2.fits\")\n",
    "\n",
    "model2 = fits.open(\"/home/jsm/PycharmProjects/tau_eff/SB99/Fitting/data/thesis/model_2.fits\")"
   ]
  },
  {
   "cell_type": "code",
   "execution_count": 6,
   "metadata": {
    "collapsed": false
   },
   "outputs": [],
   "source": [
    "z1,t1,t1_sig = tau_eff.lya_opacity(stack1,model1,\"tau_1.fits\")"
   ]
  },
  {
   "cell_type": "code",
   "execution_count": 7,
   "metadata": {
    "collapsed": false
   },
   "outputs": [],
   "source": [
    "z2,t2,t2_sig = tau_eff.lya_opacity(stack2,model2,\"tau_2.fits\")"
   ]
  },
  {
   "cell_type": "code",
   "execution_count": 9,
   "metadata": {
    "collapsed": false
   },
   "outputs": [],
   "source": [
    "tau1_table = Table([z1,t1,t1_sig], names = ('redshift','tau','tau_sig'))\n",
    "\n",
    "tau2_table = Table([z2,t2,t2_sig], names = ('redshift','tau','tau_sig'))"
   ]
  },
  {
   "cell_type": "code",
   "execution_count": 10,
   "metadata": {
    "collapsed": false
   },
   "outputs": [],
   "source": [
    "#ascii.write(tau2_table,format= \"latex\")"
   ]
  },
  {
   "cell_type": "code",
   "execution_count": 11,
   "metadata": {
    "collapsed": true
   },
   "outputs": [],
   "source": [
    "#Faucher-Giguere\n",
    "\n",
    "def F_G(z):\n",
    "    \n",
    "    τ_eff = 0.0018*(1+z)**3.92\n",
    "    \n",
    "    return τ_eff"
   ]
  },
  {
   "cell_type": "code",
   "execution_count": 12,
   "metadata": {
    "collapsed": true
   },
   "outputs": [],
   "source": [
    "#Becker\n",
    "\n",
    "def Becker(z):\n",
    "    \n",
    "    τ_eff = .751*((1+z)/(1+3.5))**2.9 - .132\n",
    "    \n",
    "    return τ_eff"
   ]
  },
  {
   "cell_type": "code",
   "execution_count": 13,
   "metadata": {
    "collapsed": true
   },
   "outputs": [],
   "source": [
    "#Kirkman \n",
    "def D_a_to_τ_eff(D_a):\n",
    "    \n",
    "    τ_eff = -np.log(1-D_a)\n",
    "    \n",
    "    return τ_eff\n",
    "\n",
    "z_vals_k = [1.6,1.8,2.0,2.2,2.4,2.6,2.8,3.0,3.2]\n",
    "\n",
    "D_a_k = np.array([0.098,0.099,0.128,0.143,0.202,0.213,0.250,0.252,0.338])\n",
    "\n",
    "D_a_k_sig = np.array([0.015,0.006,0.006,0.013,0.014,0.014,0.016,0.015,0.024])\n",
    "                 \n",
    "τ_eff_k = D_a_to_τ_eff(D_a_k)\n",
    "\n",
    "τ_err_k =  D_a_to_τ_eff(D_a_k_sig)"
   ]
  },
  {
   "cell_type": "code",
   "execution_count": 14,
   "metadata": {
    "collapsed": true
   },
   "outputs": [],
   "source": [
    "#Schaye et al\n",
    "\n",
    "z_vals_s = np.array([1.756,2.000,1.799,2.034,1.843,2.080,1.986,2.224,2.003,2.239,1.998,\n",
    "            2.242,2.010,2.256,2.103,2.366,2.217,2.496,2.243,2.506,2.308,2.572,\n",
    "            2.447,2.715,2.509,2.805,2.626,2.920,2.670,3.009,2.752,3.078,3.058,\n",
    "            3.382,3.088,3.411,3.708,3.912,3.517,3.862,3.862,4.287])\n",
    "\n",
    "\n",
    "τ_eff_s = np.array([0.099,0.093,0.120,0.162,0.224,0.124,0.128,0.164,0.180,0.113,0.139,\n",
    "           0.149,0.115,0.156,0.131,0.175,0.137,0.214,0.180,0.205,0.234,0.283,\n",
    "           0.177,0.308,0.182,0.273,0.279,0.343,0.232,0.360,0.329,0.271,0.423,\n",
    "           0.496,0.366,0.445,0.705,0.811,0.644,0.843,0.839,0.827])\n",
    "\n",
    "\n",
    "τ_err_s = np.array([0.016,0.016,0.026,0.026,0.033,0.019,0.019,0.026,0.027,0.018,0.021,\n",
    "           0.018,0.014,0.021,0.019,0.022,0.020,0.029,0.025,0.022,0.029,0.032,\n",
    "           0.025,0.041,0.021,0.030,0.033,0.037,0.023,0.040,0.043,0.030,0.034,\n",
    "           0.048,0.039,0.041,0.074,0.065,0.056,0.075,0.069,0.060])"
   ]
  },
  {
   "cell_type": "code",
   "execution_count": 15,
   "metadata": {
    "collapsed": true
   },
   "outputs": [],
   "source": [
    "#thomas \n",
    "\n",
    "def Thomas(z):\n",
    "    \n",
    "    return .0089*(1+z)**2.55"
   ]
  },
  {
   "cell_type": "code",
   "execution_count": 16,
   "metadata": {
    "collapsed": true
   },
   "outputs": [],
   "source": [
    "def lbg(z):\n",
    "    \n",
    "    return 0.165*( (1+z)/(1+2.23) )**3.32"
   ]
  },
  {
   "cell_type": "code",
   "execution_count": 17,
   "metadata": {
    "collapsed": true
   },
   "outputs": [],
   "source": [
    "# range\n",
    "zrange = np.linspace(0,4,100)"
   ]
  },
  {
   "cell_type": "code",
   "execution_count": 61,
   "metadata": {
    "collapsed": false
   },
   "outputs": [],
   "source": [
    "plt.figure(figsize=(10,5))\n",
    "\n",
    "#my plot\n",
    "#plt.errorbar(z1, t1, yerr=t1_sig ,fmt=\"o\",markersize=5, \n",
    "#             capsize=5, label=\"This work ($z_{low}$ & $z_{high}$)\",color=\"#fd8d3c\",ecolor=\"grey\")\n",
    "\n",
    "#plt.errorbar(z2, t2, yerr=t2_sig,fmt=\"o\",markersize=5, \n",
    "#             capsize=5, color=\"#fd8d3c\",ecolor=\"grey\")\n",
    "\n",
    "plt.plot(zrange,lbg(zrange), label=\"This work\", color = \"#fd8d3c\")\n",
    "\n",
    "#the others\n",
    "plt.plot(zrange,Thomas(zrange), label = \"Thomas et al. 2017\",color=\"#b10026\",ls=\"-.\")\n",
    "plt.plot(zrange,F_G(zrange), label = \"Faucher-Giguere et al. 2008\",color=\"#02818a\",ls=\"dotted\")\n",
    "plt.errorbar(z_vals_k,τ_eff_k, yerr = τ_err_k, capsize=5, \n",
    "             marker=\"*\",label=\"Kirkman et al. 2005\",ls=\"none\",color=\"#f03b20\", markersize=10)\n",
    "plt.plot(zrange,Becker(zrange), label=\"Becker et al. 2013\", color=\"magenta\",ls=\"--\")\n",
    "\n",
    "#zero line\n",
    "plt.hlines(0,0,5, color=\"lightgrey\",linestyle=\"--\")\n",
    "\n",
    "plt.xlim(1.5,3.4)\n",
    "plt.ylim(-.1,.6)\n",
    "\n",
    "#labels\n",
    "plt.xlabel(\"$z$\",fontsize=15)\n",
    "plt.ylabel(\"$τ_{eff}$\",fontsize=15)\n",
    "\n",
    "#misc\n",
    "plt.legend(fontsize=12)\n",
    "plt.xticks(fontsize=12)\n",
    "plt.yticks(fontsize=12)\n",
    "plt.show()"
   ]
  },
  {
   "cell_type": "code",
   "execution_count": null,
   "metadata": {
    "collapsed": false
   },
   "outputs": [],
   "source": [
    "k_z = fits.Column(name='redshift', array=z_vals_k, format=\"E\")\n",
    "\n",
    "k_tau = fits.Column(name='tau', array=τ_eff_k, format=\"E\")\n",
    "\n",
    "k_sig = fits.Column(name='noise', array=τ_err_k, format=\"E\")\n",
    "\n",
    "k_t = fits.BinTableHDU.from_columns([k_z, k_tau, k_sig])\n",
    "\n",
    "k_t.writeto(\"/home/jsm/PycharmProjects/tau_eff/fits/Tau_eff/Kirkman_tau.fits\")"
   ]
  },
  {
   "cell_type": "code",
   "execution_count": null,
   "metadata": {
    "collapsed": false
   },
   "outputs": [],
   "source": [
    "s_z = fits.Column(name='redshift', array=z_vals_s, format=\"E\")\n",
    "\n",
    "s_tau = fits.Column(name='tau', array=τ_eff_s, format=\"E\")\n",
    "\n",
    "s_sig = fits.Column(name='noise', array=τ_err_s, format=\"E\")\n",
    "\n",
    "s_t = fits.BinTableHDU.from_columns([s_z, s_tau, s_sig])\n",
    "\n",
    "s_t.writeto(\"/home/jsm/PycharmProjects/tau_eff/fits/Tau_eff/Schaye_tau.fits\")"
   ]
  },
  {
   "cell_type": "code",
   "execution_count": null,
   "metadata": {
    "collapsed": true
   },
   "outputs": [],
   "source": []
  }
 ],
 "metadata": {
  "kernelspec": {
   "display_name": "Python 3",
   "language": "python",
   "name": "python3"
  },
  "language_info": {
   "codemirror_mode": {
    "name": "ipython",
    "version": 3
   },
   "file_extension": ".py",
   "mimetype": "text/x-python",
   "name": "python",
   "nbconvert_exporter": "python",
   "pygments_lexer": "ipython3",
   "version": "3.5.4"
  }
 },
 "nbformat": 4,
 "nbformat_minor": 0
}
