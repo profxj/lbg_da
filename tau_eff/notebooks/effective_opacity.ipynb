{
 "cells": [
  {
   "cell_type": "code",
   "execution_count": 1,
   "metadata": {},
   "outputs": [],
   "source": [
    "import numpy as np\n",
    "from astropy.io import fits\n",
    "from astropy.table import Table as Table\n",
    "from astropy.io import ascii\n",
    "import matplotlib.pyplot as plt\n",
    "from linetools.spectra import utils as ltsu\n",
    "from linetools.spectra.xspectrum1d import XSpectrum1D\n",
    "import astropy.units as u\n",
    "from astropy import constants as const\n",
    "from numpy import random as ran\n",
    "%matplotlib inline"
   ]
  },
  {
   "cell_type": "code",
   "execution_count": 47,
   "metadata": {},
   "outputs": [],
   "source": [
    "tau_matrix = HI_bootstrap(5000,\"lowz\")"
   ]
  },
  {
   "cell_type": "code",
   "execution_count": 48,
   "metadata": {},
   "outputs": [],
   "source": [
    "tau, z = HI_opacity(\"lowz\")"
   ]
  },
  {
   "cell_type": "code",
   "execution_count": 49,
   "metadata": {},
   "outputs": [],
   "source": [
    "N = 10\n",
    "\n",
    "N_matrix = np.array([tau_matrix[i] - tau for i in range(N)])\n",
    "\n",
    "tranpose = np.transpose(N_matrix)  # matrix math\n",
    "\n",
    "covariance = np.dot(tranpose, N_matrix)\n",
    "\n",
    "sigma = np.sqrt(np.diagonal(covariance) / (N - 1)) "
   ]
  },
  {
   "cell_type": "code",
   "execution_count": 50,
   "metadata": {},
   "outputs": [
    {
     "data": {
      "text/plain": [
       "array([0.08114411, 0.04010344, 0.06349829, 0.04947387, 0.08029277,\n",
       "       0.05674998, 0.04894121, 0.08352824, 0.07011855, 0.1521847 ,\n",
       "       0.07736495, 0.08233225, 0.06591889, 0.06516776, 0.06870988,\n",
       "       0.09075977, 0.06922642, 0.12827309, 0.09450421, 0.05622544,\n",
       "       0.06875337, 0.05910142, 0.07888451, 0.07455007, 0.05420871,\n",
       "       0.05720089, 0.02121947, 0.08799554, 0.07860912, 0.07426785,\n",
       "       0.05529079, 0.07320978, 0.0727902 , 0.07429721, 0.04559689,\n",
       "       0.04050299, 0.10460108, 0.07066462, 0.05396561, 0.05085863,\n",
       "       0.05554023, 0.05016543, 0.06317179, 0.0592951 , 0.02801565,\n",
       "       0.06631246, 0.03654254, 0.04465758])"
      ]
     },
     "execution_count": 50,
     "metadata": {},
     "output_type": "execute_result"
    }
   ],
   "source": [
    "sigma"
   ]
  },
  {
   "cell_type": "code",
   "execution_count": 32,
   "metadata": {},
   "outputs": [],
   "source": [
    "for i in range(len(sigma)):\n",
    "    \n",
    "    if np.isnan(sigma[i]):\n",
    "        \n",
    "        sigma[i] = (np.nanstd(tau_mat[:,i]))"
   ]
  },
  {
   "cell_type": "code",
   "execution_count": 17,
   "metadata": {},
   "outputs": [],
   "source": [
    "#for i in range(48):\n",
    "    \n",
    "#    col_test = tau_mat[:,i]\n",
    "    \n",
    "#    med_test = np.nanmedian(col_test)\n",
    "#    std_test = np.nanstd(col_test)\n",
    "\n",
    "#    plt.hist(col_test,bins=15)\n",
    "#    plt.vlines(med_test+std_test, 0,8)\n",
    "#    plt.vlines(med_test-std_test, 0,8)\n",
    "#    plt.vlines(med_test,0,10,color=\"red\")\n",
    "#    plt.vlines(tau[i],0,10,color=\"gold\")\n",
    "#    plt.show()"
   ]
  },
  {
   "cell_type": "code",
   "execution_count": 67,
   "metadata": {},
   "outputs": [
    {
     "data": {
      "image/png": "[encoded data removed]",
      "text/plain": [
       "<Figure size 720x720 with 1 Axes>"
      ]
     },
     "metadata": {
      "needs_background": "light"
     },
     "output_type": "display_data"
    }
   ],
   "source": [
    "fig, ax = plt.subplots(figsize=(10, 10))\n",
    "plt.errorbar(z, tau, yerr=sigma, fmt=\"o\")\n",
    "plt.xlabel(\"Redshift (z)\", fontsize = 15)\n",
    "plt.ylabel(\"Effective Opacity\", fontsize = 15)\n",
    "plt.show()"
   ]
  },
  {
   "cell_type": "code",
   "execution_count": null,
   "metadata": {},
   "outputs": [],
   "source": []
  }
 ],
 "metadata": {
  "kernelspec": {
   "display_name": "Python 3",
   "language": "python",
   "name": "python3"
  },
  "language_info": {
   "codemirror_mode": {
    "name": "ipython",
    "version": 3
   },
   "file_extension": ".py",
   "mimetype": "text/x-python",
   "name": "python",
   "nbconvert_exporter": "python",
   "pygments_lexer": "ipython3",
   "version": "3.7.3"
  }
 },
 "nbformat": 4,
 "nbformat_minor": 1
}
